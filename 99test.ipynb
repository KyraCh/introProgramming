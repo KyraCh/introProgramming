{
 "cells": [
  {
   "cell_type": "code",
   "execution_count": 1,
   "metadata": {},
   "outputs": [],
   "source": [
    "import pandas as pd\n",
    "import datetime"
   ]
  },
  {
   "cell_type": "code",
   "execution_count": 2,
   "metadata": {},
   "outputs": [],
   "source": [
    "functions = {\"1\":{'method':1, 'message':'[1] - Amend your profile info',},\n",
    "            \"2\":{'method':2,  'message':'[2] - See camp info',},\n",
    "            \"3\":{'method':3,  'message':'[3] - Create refugee profile',},\n",
    "            \"4\":{'method':4,  'message':'[4] - Amend refugee profile',}}"
   ]
  },
  {
   "cell_type": "code",
   "execution_count": 8,
   "metadata": {},
   "outputs": [],
   "source": [
    "a = {0: {'username': 'admin', 'password': '111', 'role': 'admin', 'activated': True}, 1: {'username': 'Volunteer1', 'password': '111', 'role': 'volunteer', 'activated': True}, 2: {'username': 'Volunteer2', 'password': '111', 'role': 'volunteer', 'activated': True}, 3: {'username': 'Volunteer3', 'password': '111', 'role': 'volunteer', 'activated': True}, 4: {'username': 'Volunteer4', 'password': '111', 'role': 'volunteer', 'activated': True}, 5: {'username': 'Volunteer5', 'password': '111', 'role': 'volunteer', 'activated': True}, 6: {'username': 'Volunteer6', 'password': '111', 'role': 'volunteer', 'activated': True}, 7: {'username': 'Volunteer7', 'password': '111', 'role': 'volunteer', 'activated': True}, 8: {'username': 'Volunteer8', 'password': '111', 'role': 'volunteer', 'activated': True}, 9: {'username': 'Volunteer9', 'password': '111', 'role': 'volunteer', 'activated': True}, 10: {'username': 'Volunteer10', 'password': '111', 'role': 'volunteer', 'activated': True}, 11: {'username': 'Volunteer11', 'password': '111', 'role': 'volunteer', 'activated': True}, 12: {'username': 'Volunteer12', 'password': '111', 'role': 'volunteer', 'activated': True}, 13: {'username': 'Volunteer13', 'password': '111', 'role': 'volunteer', 'activated': True}, 14: {'username': 'Volunteer14', 'password': '111', 'role': 'volunteer', 'activated': True}, 15: {'username': 'Volunteer15', 'password': '111', 'role': 'volunteer', 'activated': True}, 16: {'username': 'Volunteer16', 'password': '111', 'role': 'volunteer', 'activated': True}, 17: {'username': 'Volunteer17', 'password': '111', 'role': 'volunteer', 'activated': True}, 18: {'username': 'Volunteer18', 'password': '111', 'role': 'volunteer', 'activated': True}, 19: {'username': 'Volunteer19', 'password': '111', 'role': 'volunteer', 'activated': True}, 20: {'username': 'Volunteer20', 'password': '111', 'role': 'volunteer', 'activated': True}, 21: {'username': 'Volunteer21', 'password': '111', 'role': 'volunteer', 'activated': True}, 22: {'username': 'Volunteer22', 'password': '111', 'role': 'volunteer', 'activated': True}, 23: {'username': 'Volunteer23', 'password': '111', 'role': 'volunteer', 'activated': True}, 24: {'username': 'Volunteer24', 'password': '111', 'role': 'volunteer', 'activated': True}, 25: {'username': 'Volunteer25', 'password': '111', 'role': 'volunteer', 'activated': True}, 26: {'username': 'Volunteer26', 'password': '111', 'role': 'volunteer', 'activated': True}, 27: {'username': 'Volunteer27', 'password': '111', 'role': 'volunteer', 'activated': True}, 28: {'username': 'Volunteer28', 'password': '111', 'role': 'volunteer', 'activated': True}, 29: {'username': 'Volunteer29', 'password': '111', 'role': 'volunteer', 'activated': True}, 30: {'username': 'Volunteer30', 'password': '111', 'role': 'volunteer', 'activated': True}, 31: {'username': 'Volunteer31', 'password': '111', 'role': 'volunteer', 'activated': True}, 32: {'username': 'Volunteer32', 'password': '111', 'role': 'volunteer', 'activated': True}, 33: {'username': 'Volunteer33', 'password': '111', 'role': 'volunteer', 'activated': True}, 34: {'username': 'Volunteer34', 'password': '111', 'role': 'volunteer', 'activated': True}, 35: {'username': 'Volunteer35', 'password': '111', 'role': 'volunteer', 'activated': True}, 36: {'username': 'Volunteer36', 'password': '111', 'role': 'volunteer', 'activated': True}, 37: \n",
    "{'username': 'Volunteer37', 'password': '111', 'role': 'volunteer', 'activated': True}, 38: {'username': 'Volunteer38', 'password': '111', 'role': 'volunteer', 'activated': True}, 39: {'username': 'Volunteer39', 'password': '111', 'role': 'volunteer', 'activated': True}, 40: {'username': 'Volunteer40', 'password': '111', 'role': 'volunteer', 'activated': True}, 41: {'username': 'Volunteer41', 'password': '111', 'role': 'volunteer', 'activated': True}, 42: {'username': 'Volunteer42', 'password': '111', 'role': 'volunteer', 'activated': True}, 43: {'username': 'Volunteer43', 'password': '111', 'role': 'volunteer', 'activated': True}}"
   ]
  },
  {
   "cell_type": "code",
   "execution_count": 13,
   "metadata": {},
   "outputs": [
    {
     "ename": "KeyError",
     "evalue": "'username'",
     "output_type": "error",
     "traceback": [
      "\u001b[1;31m---------------------------------------------------------------------------\u001b[0m",
      "\u001b[1;31mKeyError\u001b[0m                                  Traceback (most recent call last)",
      "\u001b[1;32m<ipython-input-13-e8066b04e5f6>\u001b[0m in \u001b[0;36m<module>\u001b[1;34m\u001b[0m\n\u001b[1;32m----> 1\u001b[1;33m \u001b[1;34m'Volunteer1'\u001b[0m \u001b[1;32min\u001b[0m \u001b[0ma\u001b[0m\u001b[1;33m[\u001b[0m\u001b[1;34m'username'\u001b[0m\u001b[1;33m]\u001b[0m\u001b[1;33m\u001b[0m\u001b[1;33m\u001b[0m\u001b[0m\n\u001b[0m",
      "\u001b[1;31mKeyError\u001b[0m: 'username'"
     ]
    }
   ],
   "source": [
    "'Volunteer1' in a['username']"
   ]
  },
  {
   "cell_type": "code",
   "execution_count": 15,
   "metadata": {},
   "outputs": [],
   "source": [
    "df1 = pd.read_csv('camp_database.csv')\n",
    "df1.dropna(how=\"all\", inplace=True)\n",
    "df1.fillna('',inplace=True)\n",
    "\n",
    "df2 = pd.read_csv('emergency_database.csv')\n",
    "df2.dropna(how=\"all\", inplace=True)\n",
    "df2.fillna('',inplace=True)\n",
    "\n",
    "df3 = pd.read_csv(\"countries.csv\", index_col = 'Country name')\n",
    "\n",
    "df4 = pd.read_csv('volunteer_database.csv')\n",
    "df4.dropna(how=\"all\", inplace=True)\n",
    "df4.fillna('',inplace=True)\n",
    "\n",
    "df5 = pd.read_csv('refugee_database.csv')\n",
    "df5.dropna(how=\"all\", inplace=True)\n",
    "df5.fillna('',inplace=True)\n"
   ]
  },
  {
   "cell_type": "code",
   "execution_count": 36,
   "metadata": {},
   "outputs": [
    {
     "ename": "ValueError",
     "evalue": "Must have equal len keys and value when setting with an iterable",
     "output_type": "error",
     "traceback": [
      "\u001b[1;31m---------------------------------------------------------------------------\u001b[0m",
      "\u001b[1;31mValueError\u001b[0m                                Traceback (most recent call last)",
      "\u001b[1;32m<ipython-input-36-b74e75cfd61f>\u001b[0m in \u001b[0;36m<module>\u001b[1;34m\u001b[0m\n\u001b[1;32m----> 1\u001b[1;33m \u001b[0mdf4\u001b[0m\u001b[1;33m.\u001b[0m\u001b[0mloc\u001b[0m\u001b[1;33m[\u001b[0m\u001b[0mdf4\u001b[0m\u001b[1;33m[\u001b[0m\u001b[1;34m'Username'\u001b[0m\u001b[1;33m]\u001b[0m\u001b[1;33m==\u001b[0m\u001b[1;34m'Volunteer1'\u001b[0m\u001b[1;33m]\u001b[0m \u001b[1;33m=\u001b[0m \u001b[1;33m[\u001b[0m\u001b[1;34m'Volunteer1'\u001b[0m\u001b[1;33m,\u001b[0m\u001b[1;36m1\u001b[0m\u001b[1;33m,\u001b[0m\u001b[1;36m2\u001b[0m\u001b[1;33m,\u001b[0m\u001b[1;36m2\u001b[0m\u001b[1;33m,\u001b[0m\u001b[1;36m3\u001b[0m\u001b[1;33m]\u001b[0m\u001b[1;33m\u001b[0m\u001b[1;33m\u001b[0m\u001b[0m\n\u001b[0m",
      "\u001b[1;32mc:\\Users\\Fedor\\anaconda3\\lib\\site-packages\\pandas\\core\\indexing.py\u001b[0m in \u001b[0;36m__setitem__\u001b[1;34m(self, key, value)\u001b[0m\n\u001b[0;32m    669\u001b[0m             \u001b[0mkey\u001b[0m \u001b[1;33m=\u001b[0m \u001b[0mcom\u001b[0m\u001b[1;33m.\u001b[0m\u001b[0mapply_if_callable\u001b[0m\u001b[1;33m(\u001b[0m\u001b[0mkey\u001b[0m\u001b[1;33m,\u001b[0m \u001b[0mself\u001b[0m\u001b[1;33m.\u001b[0m\u001b[0mobj\u001b[0m\u001b[1;33m)\u001b[0m\u001b[1;33m\u001b[0m\u001b[1;33m\u001b[0m\u001b[0m\n\u001b[0;32m    670\u001b[0m         \u001b[0mindexer\u001b[0m \u001b[1;33m=\u001b[0m \u001b[0mself\u001b[0m\u001b[1;33m.\u001b[0m\u001b[0m_get_setitem_indexer\u001b[0m\u001b[1;33m(\u001b[0m\u001b[0mkey\u001b[0m\u001b[1;33m)\u001b[0m\u001b[1;33m\u001b[0m\u001b[1;33m\u001b[0m\u001b[0m\n\u001b[1;32m--> 671\u001b[1;33m         \u001b[0mself\u001b[0m\u001b[1;33m.\u001b[0m\u001b[0m_setitem_with_indexer\u001b[0m\u001b[1;33m(\u001b[0m\u001b[0mindexer\u001b[0m\u001b[1;33m,\u001b[0m \u001b[0mvalue\u001b[0m\u001b[1;33m)\u001b[0m\u001b[1;33m\u001b[0m\u001b[1;33m\u001b[0m\u001b[0m\n\u001b[0m\u001b[0;32m    672\u001b[0m \u001b[1;33m\u001b[0m\u001b[0m\n\u001b[0;32m    673\u001b[0m     \u001b[1;32mdef\u001b[0m \u001b[0m_validate_key\u001b[0m\u001b[1;33m(\u001b[0m\u001b[0mself\u001b[0m\u001b[1;33m,\u001b[0m \u001b[0mkey\u001b[0m\u001b[1;33m,\u001b[0m \u001b[0maxis\u001b[0m\u001b[1;33m:\u001b[0m \u001b[0mint\u001b[0m\u001b[1;33m)\u001b[0m\u001b[1;33m:\u001b[0m\u001b[1;33m\u001b[0m\u001b[1;33m\u001b[0m\u001b[0m\n",
      "\u001b[1;32mc:\\Users\\Fedor\\anaconda3\\lib\\site-packages\\pandas\\core\\indexing.py\u001b[0m in \u001b[0;36m_setitem_with_indexer\u001b[1;34m(self, indexer, value)\u001b[0m\n\u001b[0;32m   1016\u001b[0m \u001b[1;33m\u001b[0m\u001b[0m\n\u001b[0;32m   1017\u001b[0m                     \u001b[1;32mif\u001b[0m \u001b[0mlen\u001b[0m\u001b[1;33m(\u001b[0m\u001b[0mlabels\u001b[0m\u001b[1;33m)\u001b[0m \u001b[1;33m!=\u001b[0m \u001b[0mlen\u001b[0m\u001b[1;33m(\u001b[0m\u001b[0mvalue\u001b[0m\u001b[1;33m)\u001b[0m\u001b[1;33m:\u001b[0m\u001b[1;33m\u001b[0m\u001b[1;33m\u001b[0m\u001b[0m\n\u001b[1;32m-> 1018\u001b[1;33m                         raise ValueError(\n\u001b[0m\u001b[0;32m   1019\u001b[0m                             \u001b[1;34m\"Must have equal len keys and value \"\u001b[0m\u001b[1;33m\u001b[0m\u001b[1;33m\u001b[0m\u001b[0m\n\u001b[0;32m   1020\u001b[0m                             \u001b[1;34m\"when setting with an iterable\"\u001b[0m\u001b[1;33m\u001b[0m\u001b[1;33m\u001b[0m\u001b[0m\n",
      "\u001b[1;31mValueError\u001b[0m: Must have equal len keys and value when setting with an iterable"
     ]
    }
   ],
   "source": [
    "df4.loc[df4['Username']=='Volunteer1'] = ['Volunteer1',1,2,2,3]"
   ]
  },
  {
   "cell_type": "code",
   "execution_count": 38,
   "metadata": {},
   "outputs": [],
   "source": [
    "if None:\n",
    "    print('asdsa')"
   ]
  },
  {
   "cell_type": "code",
   "execution_count": 29,
   "metadata": {},
   "outputs": [
    {
     "data": {
      "text/plain": [
       "['Emergency ID', 'Location', 'Type', 'Description', 'Start date', 'Close date']"
      ]
     },
     "execution_count": 29,
     "metadata": {},
     "output_type": "execute_result"
    }
   ],
   "source": [
    "df2.loc[df2['Emergency ID'].str.contains('PK', case=False)]"
   ]
  },
  {
   "cell_type": "code",
   "execution_count": 17,
   "metadata": {},
   "outputs": [
    {
     "data": {
      "text/plain": [
       "29.0"
      ]
     },
     "execution_count": 17,
     "metadata": {},
     "output_type": "execute_result"
    }
   ],
   "source": [
    "df1.loc[df1['Camp ID']=='AU1-1','Number of volunteers'][0]"
   ]
  },
  {
   "cell_type": "code",
   "execution_count": 22,
   "metadata": {},
   "outputs": [
    {
     "data": {
      "text/plain": [
       "'mend your profile info'"
      ]
     },
     "execution_count": 22,
     "metadata": {},
     "output_type": "execute_result"
    }
   ],
   "source": [
    "a = '[1] - Amend your profile info'\n",
    "a[7:]"
   ]
  },
  {
   "cell_type": "code",
   "execution_count": 2,
   "metadata": {},
   "outputs": [],
   "source": [
    "def go_back(questionStack):\n",
    "    answerStack = []\n",
    "    i = 0\n",
    "    while i < len(questionStack):\n",
    "        answer = input(questionStack[i])\n",
    "\n",
    "        if answer == 'b':\n",
    "            if i == 0:\n",
    "                break\n",
    "            answerStack.pop()\n",
    "            i -= 1\n",
    "            continue\n",
    "        elif answer == 'q':\n",
    "            break\n",
    "\n",
    "        answerStack.append(answer)\n",
    "        i += 1\n",
    "\n",
    "    return (len(answerStack) == len(questionStack), answerStack)"
   ]
  },
  {
   "cell_type": "code",
   "execution_count": 5,
   "metadata": {},
   "outputs": [
    {
     "name": "stdout",
     "output_type": "stream",
     "text": [
      "['A1', 'Russia', 'Dewath', 'Im dying', 'now', 'later']\n"
     ]
    }
   ],
   "source": [
    "def create_user_profile():\n",
    "\n",
    "    questions = ['Emergency ID: ', 'Location: ', 'Type: ',\n",
    "                 'Description: ', 'Start date: ', 'Close date: ']\n",
    "    all_answered, answers = go_back(questions)\n",
    "\n",
    "    print(answers)\n",
    "\n",
    "create_user_profile()"
   ]
  },
  {
   "cell_type": "code",
   "execution_count": 4,
   "metadata": {},
   "outputs": [
    {
     "ename": "NameError",
     "evalue": "name 'answers' is not defined",
     "output_type": "error",
     "traceback": [
      "\u001b[1;31m---------------------------------------------------------------------------\u001b[0m",
      "\u001b[1;31mNameError\u001b[0m                                 Traceback (most recent call last)",
      "\u001b[1;32m<ipython-input-4-a239968e263b>\u001b[0m in \u001b[0;36m<module>\u001b[1;34m\u001b[0m\n\u001b[1;32m----> 1\u001b[1;33m \u001b[0manswers\u001b[0m\u001b[1;33m\u001b[0m\u001b[1;33m\u001b[0m\u001b[0m\n\u001b[0m",
      "\u001b[1;31mNameError\u001b[0m: name 'answers' is not defined"
     ]
    }
   ],
   "source": [
    "answers"
   ]
  }
 ],
 "metadata": {
  "kernelspec": {
   "display_name": "Python 3.8.3 ('base')",
   "language": "python",
   "name": "python3"
  },
  "language_info": {
   "codemirror_mode": {
    "name": "ipython",
    "version": 3
   },
   "file_extension": ".py",
   "mimetype": "text/x-python",
   "name": "python",
   "nbconvert_exporter": "python",
   "pygments_lexer": "ipython3",
   "version": "3.8.3"
  },
  "orig_nbformat": 4,
  "vscode": {
   "interpreter": {
    "hash": "f734288f4c3c0fd943fc8969cfe100310df325f67561b7be63b53bbf82faac32"
   }
  }
 },
 "nbformat": 4,
 "nbformat_minor": 2
}
