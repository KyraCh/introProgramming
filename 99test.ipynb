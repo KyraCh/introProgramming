{
 "cells": [
  {
   "cell_type": "code",
   "execution_count": 59,
   "metadata": {},
   "outputs": [
    {
     "name": "stdout",
     "output_type": "stream",
     "text": [
      "  Family ID Lead Family Member Name Lead Family Member Surname Camp ID  \\\n",
      "0       1A1                    Mary                    Collins      A1   \n",
      "1       1A2                    Khan                     Samuel      A2   \n",
      "2       2A1                    Mark                      Brown      A1   \n",
      "3       3A1                 Michael                      Smith      A1   \n",
      "4       2A2                     Sam                    Roberts      A2   \n",
      "5       3A2                  Sophie                      Jones      A2   \n",
      "\n",
      "  Mental State Physical State  No. Of Family Members  \n",
      "0         good            bad                      3  \n",
      "1         good            bad                      4  \n",
      "2          bad            bad                      2  \n",
      "3         good           good                      3  \n",
      "4          bad           good                      5  \n",
      "5          bad            bad                      2  \n"
     ]
    }
   ],
   "source": [
    "import pandas as pd\n",
    "pd.set_option('display.max_columns',15)\n",
    "df = pd.read_csv('RefugeeList.csv')\n",
    "print(df)"
   ]
  },
  {
   "cell_type": "code",
   "execution_count": 61,
   "metadata": {},
   "outputs": [
    {
     "ename": "IndexError",
     "evalue": "index 0 is out of bounds for axis 0 with size 0",
     "output_type": "error",
     "traceback": [
      "\u001b[1;31m---------------------------------------------------------------------------\u001b[0m",
      "\u001b[1;31mIndexError\u001b[0m                                Traceback (most recent call last)",
      "\u001b[1;32mc:\\Users\\fsuli\\Programming\\introProgramming\\99test.ipynb Cell 2\u001b[0m in \u001b[0;36m<cell line: 4>\u001b[1;34m()\u001b[0m\n\u001b[0;32m      <a href='vscode-notebook-cell:/c%3A/Users/fsuli/Programming/introProgramming/99test.ipynb#W4sZmlsZQ%3D%3D?line=3'>4</a>\u001b[0m \u001b[39mif\u001b[39;00m change \u001b[39min\u001b[39;00m [i[\u001b[39m1\u001b[39m:] \u001b[39mfor\u001b[39;00m i \u001b[39min\u001b[39;00m \u001b[39mlist\u001b[39m(df[\u001b[39m'\u001b[39m\u001b[39mFamily ID\u001b[39m\u001b[39m'\u001b[39m])]:\n\u001b[0;32m      <a href='vscode-notebook-cell:/c%3A/Users/fsuli/Programming/introProgramming/99test.ipynb#W4sZmlsZQ%3D%3D?line=4'>5</a>\u001b[0m     new_index \u001b[39m=\u001b[39m \u001b[39mstr\u001b[39m(\u001b[39mmax\u001b[39m([\u001b[39mint\u001b[39m(i[\u001b[39m0\u001b[39m]) \u001b[39mfor\u001b[39;00m i \u001b[39min\u001b[39;00m \u001b[39mlist\u001b[39m(df[\u001b[39m'\u001b[39m\u001b[39mFamily ID\u001b[39m\u001b[39m'\u001b[39m]) \u001b[39mif\u001b[39;00m change \u001b[39min\u001b[39;00m i])\u001b[39m+\u001b[39m\u001b[39m1\u001b[39m)\n\u001b[1;32m----> <a href='vscode-notebook-cell:/c%3A/Users/fsuli/Programming/introProgramming/99test.ipynb#W4sZmlsZQ%3D%3D?line=5'>6</a>\u001b[0m     df\u001b[39m.\u001b[39mat[df\u001b[39m.\u001b[39;49mindex[df[\u001b[39m'\u001b[39;49m\u001b[39mFamily ID\u001b[39;49m\u001b[39m'\u001b[39;49m] \u001b[39m==\u001b[39;49m iD][\u001b[39m0\u001b[39;49m],\u001b[39m'\u001b[39m\u001b[39mFamily ID\u001b[39m\u001b[39m'\u001b[39m] \u001b[39m=\u001b[39m new_index \u001b[39m+\u001b[39m change\n\u001b[0;32m      <a href='vscode-notebook-cell:/c%3A/Users/fsuli/Programming/introProgramming/99test.ipynb#W4sZmlsZQ%3D%3D?line=6'>7</a>\u001b[0m     iD \u001b[39m=\u001b[39m new_index \u001b[39m+\u001b[39m change\n\u001b[0;32m      <a href='vscode-notebook-cell:/c%3A/Users/fsuli/Programming/introProgramming/99test.ipynb#W4sZmlsZQ%3D%3D?line=7'>8</a>\u001b[0m \u001b[39melse\u001b[39;00m:\n",
      "File \u001b[1;32mc:\\Users\\fsuli\\anaconda3\\envs\\internenv\\lib\\site-packages\\pandas\\core\\indexes\\base.py:5039\u001b[0m, in \u001b[0;36mIndex.__getitem__\u001b[1;34m(self, key)\u001b[0m\n\u001b[0;32m   5036\u001b[0m \u001b[39mif\u001b[39;00m is_integer(key) \u001b[39mor\u001b[39;00m is_float(key):\n\u001b[0;32m   5037\u001b[0m     \u001b[39m# GH#44051 exclude bool, which would return a 2d ndarray\u001b[39;00m\n\u001b[0;32m   5038\u001b[0m     key \u001b[39m=\u001b[39m com\u001b[39m.\u001b[39mcast_scalar_indexer(key, warn_float\u001b[39m=\u001b[39m\u001b[39mTrue\u001b[39;00m)\n\u001b[1;32m-> 5039\u001b[0m     \u001b[39mreturn\u001b[39;00m getitem(key)\n\u001b[0;32m   5041\u001b[0m \u001b[39mif\u001b[39;00m \u001b[39misinstance\u001b[39m(key, \u001b[39mslice\u001b[39m):\n\u001b[0;32m   5042\u001b[0m     \u001b[39m# This case is separated from the conditional above to avoid\u001b[39;00m\n\u001b[0;32m   5043\u001b[0m     \u001b[39m# pessimization com.is_bool_indexer and ndim checks.\u001b[39;00m\n\u001b[0;32m   5044\u001b[0m     result \u001b[39m=\u001b[39m getitem(key)\n",
      "\u001b[1;31mIndexError\u001b[0m: index 0 is out of bounds for axis 0 with size 0"
     ]
    }
   ],
   "source": [
    "change = 'A2'\n",
    "iD = '1A1'\n",
    "\n",
    "if change in [i[1:] for i in list(df['Family ID'])]:\n",
    "    new_index = str(max([int(i[0]) for i in list(df['Family ID']) if change in i])+1)\n",
    "    df.at[df.index[df['Family ID'] == iD][0],'Family ID'] = new_index + change\n",
    "    iD = new_index + change\n",
    "else:\n",
    "    df.at[df.index[df['Family ID'] == iD][0],'Family ID'] = '1' + change\n",
    "    iD = '1' + change\n",
    "df"
   ]
  },
  {
   "cell_type": "code",
   "execution_count": 6,
   "metadata": {},
   "outputs": [
    {
     "name": "stdout",
     "output_type": "stream",
     "text": [
      "aaaaa aaaaa\n"
     ]
    }
   ],
   "source": [
    "class a():\n",
    "    def __init__(self):\n",
    "        self.A = 'aaaaa'\n",
    "        \n",
    "class b(a):\n",
    "    def __init__(self):\n",
    "        a.__init__(self)\n",
    "        \n",
    "    def N(self):\n",
    "        print(self.A)\n",
    "        \n",
    "bb = b()\n",
    "aa = a()\n",
    "print(aa.A, bb.A)"
   ]
  },
  {
   "cell_type": "code",
   "execution_count": 53,
   "metadata": {},
   "outputs": [
    {
     "data": {
      "text/plain": [
       "'A19'"
      ]
     },
     "execution_count": 53,
     "metadata": {},
     "output_type": "execute_result"
    }
   ],
   "source": [
    "i = '1A19'\n",
    "i[1:]"
   ]
  },
  {
   "cell_type": "code",
   "execution_count": 39,
   "metadata": {},
   "outputs": [
    {
     "name": "stderr",
     "output_type": "stream",
     "text": [
      "C:\\Users\\fsuli\\AppData\\Local\\Temp\\ipykernel_18220\\2108619073.py:2: FutureWarning: The frame.append method is deprecated and will be removed from pandas in a future version. Use pandas.concat instead.\n",
      "  list_of_refugee.append(data)\n"
     ]
    },
    {
     "data": {
      "text/html": [
       "<div>\n",
       "<style scoped>\n",
       "    .dataframe tbody tr th:only-of-type {\n",
       "        vertical-align: middle;\n",
       "    }\n",
       "\n",
       "    .dataframe tbody tr th {\n",
       "        vertical-align: top;\n",
       "    }\n",
       "\n",
       "    .dataframe thead th {\n",
       "        text-align: right;\n",
       "    }\n",
       "</style>\n",
       "<table border=\"1\" class=\"dataframe\">\n",
       "  <thead>\n",
       "    <tr style=\"text-align: right;\">\n",
       "      <th></th>\n",
       "      <th>Family ID</th>\n",
       "      <th>Lead Family Member Name</th>\n",
       "      <th>Lead Family Member Surname</th>\n",
       "      <th>Camp ID</th>\n",
       "      <th>Mental State</th>\n",
       "      <th>Physical State</th>\n",
       "      <th>No. Of Family Members</th>\n",
       "    </tr>\n",
       "  </thead>\n",
       "  <tbody>\n",
       "    <tr>\n",
       "      <th>0</th>\n",
       "      <td>1A1</td>\n",
       "      <td>Mary</td>\n",
       "      <td>Collins</td>\n",
       "      <td>A1</td>\n",
       "      <td>good</td>\n",
       "      <td>bad</td>\n",
       "      <td>3</td>\n",
       "    </tr>\n",
       "    <tr>\n",
       "      <th>1</th>\n",
       "      <td>1A2</td>\n",
       "      <td>Khan</td>\n",
       "      <td>Samuel</td>\n",
       "      <td>A2</td>\n",
       "      <td>good</td>\n",
       "      <td>bad</td>\n",
       "      <td>4</td>\n",
       "    </tr>\n",
       "    <tr>\n",
       "      <th>2</th>\n",
       "      <td>2A1</td>\n",
       "      <td>Mark</td>\n",
       "      <td>Brown</td>\n",
       "      <td>A1</td>\n",
       "      <td>bad</td>\n",
       "      <td>bad</td>\n",
       "      <td>2</td>\n",
       "    </tr>\n",
       "    <tr>\n",
       "      <th>3</th>\n",
       "      <td>3A1</td>\n",
       "      <td>Michael</td>\n",
       "      <td>Smith</td>\n",
       "      <td>A1</td>\n",
       "      <td>good</td>\n",
       "      <td>good</td>\n",
       "      <td>3</td>\n",
       "    </tr>\n",
       "    <tr>\n",
       "      <th>4</th>\n",
       "      <td>2A2</td>\n",
       "      <td>Sam</td>\n",
       "      <td>Roberts</td>\n",
       "      <td>A2</td>\n",
       "      <td>bad</td>\n",
       "      <td>good</td>\n",
       "      <td>5</td>\n",
       "    </tr>\n",
       "    <tr>\n",
       "      <th>5</th>\n",
       "      <td>3A2</td>\n",
       "      <td>Sophie</td>\n",
       "      <td>Jones</td>\n",
       "      <td>A2</td>\n",
       "      <td>bad</td>\n",
       "      <td>bad</td>\n",
       "      <td>2</td>\n",
       "    </tr>\n",
       "    <tr>\n",
       "      <th>0</th>\n",
       "      <td>69</td>\n",
       "      <td>Bob</td>\n",
       "      <td>Nightmare</td>\n",
       "      <td>Kaluga</td>\n",
       "      <td>good</td>\n",
       "      <td>bad</td>\n",
       "      <td>many</td>\n",
       "    </tr>\n",
       "  </tbody>\n",
       "</table>\n",
       "</div>"
      ],
      "text/plain": [
       "  Family ID Lead Family Member Name Lead Family Member Surname Camp ID  \\\n",
       "0       1A1                    Mary                    Collins      A1   \n",
       "1       1A2                    Khan                     Samuel      A2   \n",
       "2       2A1                    Mark                      Brown      A1   \n",
       "3       3A1                 Michael                      Smith      A1   \n",
       "4       2A2                     Sam                    Roberts      A2   \n",
       "5       3A2                  Sophie                      Jones      A2   \n",
       "0        69                     Bob                  Nightmare  Kaluga   \n",
       "\n",
       "  Mental State Physical State No. Of Family Members  \n",
       "0         good            bad                     3  \n",
       "1         good            bad                     4  \n",
       "2          bad            bad                     2  \n",
       "3         good           good                     3  \n",
       "4          bad           good                     5  \n",
       "5          bad            bad                     2  \n",
       "0         good            bad                  many  "
      ]
     },
     "execution_count": 39,
     "metadata": {},
     "output_type": "execute_result"
    }
   ],
   "source": [
    "data = pd.DataFrame([['69','Bob','Nightmare','Kaluga','good','bad','many']], columns = list_of_refugee.columns )\n",
    "list_of_refugee.append(data)\n",
    "#data"
   ]
  },
  {
   "cell_type": "code",
   "execution_count": 104,
   "metadata": {},
   "outputs": [
    {
     "name": "stdout",
     "output_type": "stream",
     "text": [
      "AMEND REFUGEE PROFILE\n",
      "\n",
      "Please Choose which values you would like to ammend\n",
      "-------------------------\n",
      "Input indices corresponding to value you wish to ammend separated by commas \",\"\n",
      "eg: \"1,2\" for amending \"Lead Family Member Name\" and \"Lead Family Member Surname\"\n",
      "[1] - \"Lead Family Member Name\"\n",
      "[2] - \"Lead Family Member Surname\"\n",
      "[3] - \"Camp ID\"\n",
      "[4] - \"Mental State\"\n",
      "[5] - \"Physical State\"\n",
      "[6] - \"No. Of Family Members\"\n",
      "[123] [False]\n",
      "Please input valid indices\n",
      "Please input valid indices!\n",
      "[1, 90] [True, False]\n",
      "Please input valid indices\n",
      "[1, 2, 3] [True, True, True]\n"
     ]
    }
   ],
   "source": [
    "def amend_refugee_profile():\n",
    "    '''familyID, name, surname, campID, mentalState, physicalState, no_of_relatives'''\n",
    "    print('AMEND REFUGEE PROFILE')\n",
    "\n",
    "    while True:\n",
    "        iD = input('Please choose Family ID you would like to ammend: ')\n",
    "        if iD not in list(list_of_refugee['Family ID']):\n",
    "            print('Please enter valid Family ID')\n",
    "            continue\n",
    "        print(f'\\nPlease Choose which values you would like to ammend for Family {iD}')\n",
    "        print('-'*25)\n",
    "        print('Input indices corresponding to value you wish to ammend separated by commas \",\"')\n",
    "        print('eg: \"1,2\" for amending \"Lead Family Member Name\" and \"Lead Family Member Surname\"')\n",
    "        print('[1] - \"Lead Family Member Name\"')\n",
    "        print('[2] - \"Lead Family Member Surname\"')\n",
    "        print('[3] - \"Camp ID\"')\n",
    "        print('[4] - \"Mental State\"')\n",
    "        print('[5] - \"Physical State\"')\n",
    "        print('[6] - \"No. Of Family Members\"\\n')\n",
    "\n",
    "        while True:\n",
    "            ops = input('Indices: ')\n",
    "            try:\n",
    "                ops = [int(i) for i in ops.split(',')]\n",
    "            except:\n",
    "                print('Please input valid indices')\n",
    "                continue\n",
    "            check = [not (i<1 or i>6) for i in ops]\n",
    "            if any(i is False for i in check):\n",
    "                print('Please input valid indices')\n",
    "                continue\n",
    "            break\n",
    "        \n",
    "        for i in ops:\n",
    "            change = input(f'Please select new value for {list_of_refugee.columns[i]}')\n",
    "            list_of_refugee.at[list_of_refugee.index[list_of_refugee['Family ID'] == iD][0],list_of_refugee.columns[i]]=change\n",
    "        \n",
    "        break\n",
    "    \n",
    "amend_refugee_profile()   "
   ]
  },
  {
   "cell_type": "code",
   "execution_count": 105,
   "metadata": {},
   "outputs": [
    {
     "data": {
      "text/html": [
       "<div>\n",
       "<style scoped>\n",
       "    .dataframe tbody tr th:only-of-type {\n",
       "        vertical-align: middle;\n",
       "    }\n",
       "\n",
       "    .dataframe tbody tr th {\n",
       "        vertical-align: top;\n",
       "    }\n",
       "\n",
       "    .dataframe thead th {\n",
       "        text-align: right;\n",
       "    }\n",
       "</style>\n",
       "<table border=\"1\" class=\"dataframe\">\n",
       "  <thead>\n",
       "    <tr style=\"text-align: right;\">\n",
       "      <th></th>\n",
       "      <th>Family ID</th>\n",
       "      <th>Lead Family Member Name</th>\n",
       "      <th>Lead Family Member Surname</th>\n",
       "      <th>Camp ID</th>\n",
       "      <th>Mental State</th>\n",
       "      <th>Physical State</th>\n",
       "      <th>No. Of Family Members</th>\n",
       "    </tr>\n",
       "  </thead>\n",
       "  <tbody>\n",
       "    <tr>\n",
       "      <th>0</th>\n",
       "      <td>1A1</td>\n",
       "      <td>Fedor</td>\n",
       "      <td>Collins</td>\n",
       "      <td>A1</td>\n",
       "      <td>good</td>\n",
       "      <td>bad</td>\n",
       "      <td>3</td>\n",
       "    </tr>\n",
       "    <tr>\n",
       "      <th>1</th>\n",
       "      <td>1A2</td>\n",
       "      <td>Khan</td>\n",
       "      <td>Samuel</td>\n",
       "      <td>A2</td>\n",
       "      <td>good</td>\n",
       "      <td>bad</td>\n",
       "      <td>4</td>\n",
       "    </tr>\n",
       "    <tr>\n",
       "      <th>2</th>\n",
       "      <td>2A1</td>\n",
       "      <td>Mark</td>\n",
       "      <td>Brown</td>\n",
       "      <td>A1</td>\n",
       "      <td>bad</td>\n",
       "      <td>bad</td>\n",
       "      <td>2</td>\n",
       "    </tr>\n",
       "    <tr>\n",
       "      <th>3</th>\n",
       "      <td>3A1</td>\n",
       "      <td>Michael</td>\n",
       "      <td>Smith</td>\n",
       "      <td>A1</td>\n",
       "      <td>good</td>\n",
       "      <td>good</td>\n",
       "      <td>3</td>\n",
       "    </tr>\n",
       "    <tr>\n",
       "      <th>4</th>\n",
       "      <td>2A2</td>\n",
       "      <td>Sam</td>\n",
       "      <td>Roberts</td>\n",
       "      <td>A2</td>\n",
       "      <td>bad</td>\n",
       "      <td>good</td>\n",
       "      <td>5</td>\n",
       "    </tr>\n",
       "    <tr>\n",
       "      <th>5</th>\n",
       "      <td>3A2</td>\n",
       "      <td>Sophie</td>\n",
       "      <td>Jones</td>\n",
       "      <td>A2</td>\n",
       "      <td>bad</td>\n",
       "      <td>bad</td>\n",
       "      <td>2</td>\n",
       "    </tr>\n",
       "  </tbody>\n",
       "</table>\n",
       "</div>"
      ],
      "text/plain": [
       "  Family ID Lead Family Member Name Lead Family Member Surname Camp ID  \\\n",
       "0       1A1                   Fedor                    Collins      A1   \n",
       "1       1A2                    Khan                     Samuel      A2   \n",
       "2       2A1                    Mark                      Brown      A1   \n",
       "3       3A1                 Michael                      Smith      A1   \n",
       "4       2A2                     Sam                    Roberts      A2   \n",
       "5       3A2                  Sophie                      Jones      A2   \n",
       "\n",
       "  Mental State Physical State  No. Of Family Members  \n",
       "0         good            bad                      3  \n",
       "1         good            bad                      4  \n",
       "2          bad            bad                      2  \n",
       "3         good           good                      3  \n",
       "4          bad           good                      5  \n",
       "5          bad            bad                      2  "
      ]
     },
     "execution_count": 105,
     "metadata": {},
     "output_type": "execute_result"
    }
   ],
   "source": [
    "list_of_refugee"
   ]
  },
  {
   "cell_type": "code",
   "execution_count": 86,
   "metadata": {},
   "outputs": [
    {
     "name": "stdout",
     "output_type": "stream",
     "text": [
      "Please input valid indices\n"
     ]
    }
   ],
   "source": [
    "a = 'sad'\n",
    "try:\n",
    "    ops = [int(i) for i in a.split(',')]\n",
    "    #ops = [i for i in a if len(i)!=0]\n",
    "    for i in ops:\n",
    "        if i<1 or i>6:\n",
    "            print('Please input valid indices') \n",
    "except:\n",
    "    print('Please input valid indices')"
   ]
  },
  {
   "cell_type": "code",
   "execution_count": 80,
   "metadata": {},
   "outputs": [
    {
     "data": {
      "text/plain": [
       "'1,12,'"
      ]
     },
     "execution_count": 80,
     "metadata": {},
     "output_type": "execute_result"
    }
   ],
   "source": [
    "a"
   ]
  },
  {
   "cell_type": "code",
   "execution_count": 53,
   "metadata": {},
   "outputs": [
    {
     "data": {
      "text/plain": [
       "0    Sulitskiy\n",
       "1       Samuel\n",
       "2        Brown\n",
       "3        Smith\n",
       "4      Roberts\n",
       "5        Jones\n",
       "Name: Lead Family Member Surname, dtype: object"
      ]
     },
     "execution_count": 53,
     "metadata": {},
     "output_type": "execute_result"
    }
   ],
   "source": [
    "#df.at[df.index[df['Family ID'] == '1A1'][0],'Lead Family Member Surname'] = 'S'\n",
    "df['Lead Family Member Surname']"
   ]
  },
  {
   "cell_type": "code",
   "execution_count": 50,
   "metadata": {},
   "outputs": [
    {
     "data": {
      "text/html": [
       "<div>\n",
       "<style scoped>\n",
       "    .dataframe tbody tr th:only-of-type {\n",
       "        vertical-align: middle;\n",
       "    }\n",
       "\n",
       "    .dataframe tbody tr th {\n",
       "        vertical-align: top;\n",
       "    }\n",
       "\n",
       "    .dataframe thead th {\n",
       "        text-align: right;\n",
       "    }\n",
       "</style>\n",
       "<table border=\"1\" class=\"dataframe\">\n",
       "  <thead>\n",
       "    <tr style=\"text-align: right;\">\n",
       "      <th></th>\n",
       "      <th>Family ID</th>\n",
       "      <th>Lead Family Member Name</th>\n",
       "      <th>Lead Family Member Surname</th>\n",
       "      <th>Camp ID</th>\n",
       "      <th>Mental State</th>\n",
       "      <th>Physical State</th>\n",
       "      <th>No. Of Family Members</th>\n",
       "    </tr>\n",
       "  </thead>\n",
       "  <tbody>\n",
       "    <tr>\n",
       "      <th>0</th>\n",
       "      <td>1A1</td>\n",
       "      <td>Billy</td>\n",
       "      <td>Collins</td>\n",
       "      <td>A69</td>\n",
       "      <td>good</td>\n",
       "      <td>bad</td>\n",
       "      <td>3</td>\n",
       "    </tr>\n",
       "    <tr>\n",
       "      <th>1</th>\n",
       "      <td>1A2</td>\n",
       "      <td>Khan</td>\n",
       "      <td>Samuel</td>\n",
       "      <td>A2</td>\n",
       "      <td>good</td>\n",
       "      <td>bad</td>\n",
       "      <td>4</td>\n",
       "    </tr>\n",
       "    <tr>\n",
       "      <th>2</th>\n",
       "      <td>2A1</td>\n",
       "      <td>Mark</td>\n",
       "      <td>Brown</td>\n",
       "      <td>A1</td>\n",
       "      <td>bad</td>\n",
       "      <td>bad</td>\n",
       "      <td>2</td>\n",
       "    </tr>\n",
       "    <tr>\n",
       "      <th>3</th>\n",
       "      <td>3A1</td>\n",
       "      <td>Michael</td>\n",
       "      <td>Smith</td>\n",
       "      <td>A1</td>\n",
       "      <td>good</td>\n",
       "      <td>good</td>\n",
       "      <td>3</td>\n",
       "    </tr>\n",
       "    <tr>\n",
       "      <th>4</th>\n",
       "      <td>2A2</td>\n",
       "      <td>Sam</td>\n",
       "      <td>Roberts</td>\n",
       "      <td>A2</td>\n",
       "      <td>bad</td>\n",
       "      <td>good</td>\n",
       "      <td>5</td>\n",
       "    </tr>\n",
       "    <tr>\n",
       "      <th>5</th>\n",
       "      <td>3A2</td>\n",
       "      <td>Sophie</td>\n",
       "      <td>Jones</td>\n",
       "      <td>A2</td>\n",
       "      <td>bad</td>\n",
       "      <td>bad</td>\n",
       "      <td>2</td>\n",
       "    </tr>\n",
       "  </tbody>\n",
       "</table>\n",
       "</div>"
      ],
      "text/plain": [
       "  Family ID Lead Family Member Name Lead Family Member Surname Camp ID  \\\n",
       "0       1A1                   Billy                    Collins     A69   \n",
       "1       1A2                    Khan                     Samuel      A2   \n",
       "2       2A1                    Mark                      Brown      A1   \n",
       "3       3A1                 Michael                      Smith      A1   \n",
       "4       2A2                     Sam                    Roberts      A2   \n",
       "5       3A2                  Sophie                      Jones      A2   \n",
       "\n",
       "  Mental State Physical State  No. Of Family Members  \n",
       "0         good            bad                      3  \n",
       "1         good            bad                      4  \n",
       "2          bad            bad                      2  \n",
       "3         good           good                      3  \n",
       "4          bad           good                      5  \n",
       "5          bad            bad                      2  "
      ]
     },
     "execution_count": 50,
     "metadata": {},
     "output_type": "execute_result"
    }
   ],
   "source": [
    "df"
   ]
  },
  {
   "cell_type": "code",
   "execution_count": 39,
   "metadata": {},
   "outputs": [],
   "source": [
    "df.at[df.index[df['Family ID'] == '1A1'][0],'Lead Family Member Name']='Billy'"
   ]
  },
  {
   "cell_type": "code",
   "execution_count": 51,
   "metadata": {},
   "outputs": [
    {
     "data": {
      "text/html": [
       "<div>\n",
       "<style scoped>\n",
       "    .dataframe tbody tr th:only-of-type {\n",
       "        vertical-align: middle;\n",
       "    }\n",
       "\n",
       "    .dataframe tbody tr th {\n",
       "        vertical-align: top;\n",
       "    }\n",
       "\n",
       "    .dataframe thead th {\n",
       "        text-align: right;\n",
       "    }\n",
       "</style>\n",
       "<table border=\"1\" class=\"dataframe\">\n",
       "  <thead>\n",
       "    <tr style=\"text-align: right;\">\n",
       "      <th></th>\n",
       "      <th>Family ID</th>\n",
       "      <th>Lead Family Member Name</th>\n",
       "      <th>Lead Family Member Surname</th>\n",
       "      <th>Camp ID</th>\n",
       "      <th>Mental State</th>\n",
       "      <th>Physical State</th>\n",
       "      <th>No. Of Family Members</th>\n",
       "    </tr>\n",
       "  </thead>\n",
       "  <tbody>\n",
       "    <tr>\n",
       "      <th>0</th>\n",
       "      <td>1A1</td>\n",
       "      <td>Billy</td>\n",
       "      <td>Collins</td>\n",
       "      <td>A69</td>\n",
       "      <td>good</td>\n",
       "      <td>bad</td>\n",
       "      <td>3</td>\n",
       "    </tr>\n",
       "    <tr>\n",
       "      <th>1</th>\n",
       "      <td>1A2</td>\n",
       "      <td>Khan</td>\n",
       "      <td>Samuel</td>\n",
       "      <td>A2</td>\n",
       "      <td>good</td>\n",
       "      <td>bad</td>\n",
       "      <td>4</td>\n",
       "    </tr>\n",
       "    <tr>\n",
       "      <th>2</th>\n",
       "      <td>2A1</td>\n",
       "      <td>Mark</td>\n",
       "      <td>Brown</td>\n",
       "      <td>A1</td>\n",
       "      <td>bad</td>\n",
       "      <td>bad</td>\n",
       "      <td>2</td>\n",
       "    </tr>\n",
       "    <tr>\n",
       "      <th>3</th>\n",
       "      <td>3A1</td>\n",
       "      <td>Michael</td>\n",
       "      <td>Smith</td>\n",
       "      <td>A1</td>\n",
       "      <td>good</td>\n",
       "      <td>good</td>\n",
       "      <td>3</td>\n",
       "    </tr>\n",
       "    <tr>\n",
       "      <th>4</th>\n",
       "      <td>2A2</td>\n",
       "      <td>Sam</td>\n",
       "      <td>Roberts</td>\n",
       "      <td>A2</td>\n",
       "      <td>bad</td>\n",
       "      <td>good</td>\n",
       "      <td>5</td>\n",
       "    </tr>\n",
       "    <tr>\n",
       "      <th>5</th>\n",
       "      <td>3A2</td>\n",
       "      <td>Sophie</td>\n",
       "      <td>Jones</td>\n",
       "      <td>A2</td>\n",
       "      <td>bad</td>\n",
       "      <td>bad</td>\n",
       "      <td>2</td>\n",
       "    </tr>\n",
       "  </tbody>\n",
       "</table>\n",
       "</div>"
      ],
      "text/plain": [
       "  Family ID Lead Family Member Name Lead Family Member Surname Camp ID  \\\n",
       "0       1A1                   Billy                    Collins     A69   \n",
       "1       1A2                    Khan                     Samuel      A2   \n",
       "2       2A1                    Mark                      Brown      A1   \n",
       "3       3A1                 Michael                      Smith      A1   \n",
       "4       2A2                     Sam                    Roberts      A2   \n",
       "5       3A2                  Sophie                      Jones      A2   \n",
       "\n",
       "  Mental State Physical State  No. Of Family Members  \n",
       "0         good            bad                      3  \n",
       "1         good            bad                      4  \n",
       "2          bad            bad                      2  \n",
       "3         good           good                      3  \n",
       "4          bad           good                      5  \n",
       "5          bad            bad                      2  "
      ]
     },
     "execution_count": 51,
     "metadata": {},
     "output_type": "execute_result"
    }
   ],
   "source": [
    "df"
   ]
  },
  {
   "cell_type": "code",
   "execution_count": 26,
   "metadata": {},
   "outputs": [
    {
     "data": {
      "text/plain": [
       "0    1A1\n",
       "1    1A2\n",
       "2    2A1\n",
       "3    3A1\n",
       "4    2A2\n",
       "5    3A2\n",
       "Name: Family ID, dtype: object"
      ]
     },
     "execution_count": 26,
     "metadata": {},
     "output_type": "execute_result"
    }
   ],
   "source": [
    "df[df.columns[0]]"
   ]
  },
  {
   "cell_type": "code",
   "execution_count": 1,
   "metadata": {},
   "outputs": [
    {
     "ename": "NameError",
     "evalue": "name 'pd' is not defined",
     "output_type": "error",
     "traceback": [
      "\u001b[1;31m---------------------------------------------------------------------------\u001b[0m",
      "\u001b[1;31mNameError\u001b[0m                                 Traceback (most recent call last)",
      "\u001b[1;32mc:\\Users\\fsuli\\Programming\\introProgramming\\99test.ipynb Cell 13\u001b[0m in \u001b[0;36m<cell line: 1>\u001b[1;34m()\u001b[0m\n\u001b[1;32m----> <a href='vscode-notebook-cell:/c%3A/Users/fsuli/Programming/introProgramming/99test.ipynb#X21sZmlsZQ%3D%3D?line=0'>1</a>\u001b[0m df \u001b[39m=\u001b[39m pd\u001b[39m.\u001b[39mread_csv(\u001b[39m'\u001b[39m\u001b[39mVolounteersData.csv\u001b[39m\u001b[39m'\u001b[39m)\u001b[39m.\u001b[39mset_index(\u001b[39m'\u001b[39m\u001b[39mUsername\u001b[39m\u001b[39m'\u001b[39m)\n\u001b[0;32m      <a href='vscode-notebook-cell:/c%3A/Users/fsuli/Programming/introProgramming/99test.ipynb#X21sZmlsZQ%3D%3D?line=1'>2</a>\u001b[0m \u001b[39m#df['First name '] = df['First name '].astype(str)\u001b[39;00m\n\u001b[0;32m      <a href='vscode-notebook-cell:/c%3A/Users/fsuli/Programming/introProgramming/99test.ipynb#X21sZmlsZQ%3D%3D?line=2'>3</a>\u001b[0m vol_dict \u001b[39m=\u001b[39m df\u001b[39m.\u001b[39mto_dict(orient\u001b[39m=\u001b[39m\u001b[39m'\u001b[39m\u001b[39mindex\u001b[39m\u001b[39m'\u001b[39m)\n",
      "\u001b[1;31mNameError\u001b[0m: name 'pd' is not defined"
     ]
    }
   ],
   "source": [
    "df = pd.read_csv('VolounteersData.csv').set_index('Username')\n",
    "#df['First name '] = df['First name '].astype(str)\n",
    "vol_dict = df.to_dict(orient='index')\n",
    "df"
   ]
  },
  {
   "cell_type": "code",
   "execution_count": 121,
   "metadata": {},
   "outputs": [
    {
     "data": {
      "text/plain": [
       "'A1'"
      ]
     },
     "execution_count": 121,
     "metadata": {},
     "output_type": "execute_result"
    }
   ],
   "source": [
    "def stop():\n",
    "    a = input()\n",
    "    if a == 'a':\n",
    "        return break"
   ]
  },
  {
   "cell_type": "code",
   "execution_count": 120,
   "metadata": {},
   "outputs": [
    {
     "data": {
      "text/plain": [
       "'Mike'"
      ]
     },
     "execution_count": 120,
     "metadata": {},
     "output_type": "execute_result"
    }
   ],
   "source": [
    "while True:\n",
    "    a = input()\n",
    "    "
   ]
  }
 ],
 "metadata": {
  "kernelspec": {
   "display_name": "Python 3.10.5 ('internenv')",
   "language": "python",
   "name": "python3"
  },
  "language_info": {
   "codemirror_mode": {
    "name": "ipython",
    "version": 3
   },
   "file_extension": ".py",
   "mimetype": "text/x-python",
   "name": "python",
   "nbconvert_exporter": "python",
   "pygments_lexer": "ipython3",
   "version": "3.10.5"
  },
  "orig_nbformat": 4,
  "vscode": {
   "interpreter": {
    "hash": "78f4d5eeabc4f1e607735e70d3a6d61402e9870b2eee08b6d7fa4247345d95ad"
   }
  }
 },
 "nbformat": 4,
 "nbformat_minor": 2
}
