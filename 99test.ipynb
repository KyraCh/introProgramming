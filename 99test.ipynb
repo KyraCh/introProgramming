{
 "cells": [
  {
   "cell_type": "code",
   "execution_count": 204,
   "metadata": {},
   "outputs": [],
   "source": [
    "import pandas as pd\n",
    "import datetime\n",
    "from tabulate import tabulate"
   ]
  },
  {
   "cell_type": "code",
   "execution_count": 139,
   "metadata": {},
   "outputs": [],
   "source": [
    "df1 = pd.read_csv('camp_database.csv')\n",
    "df1.dropna(how=\"all\", inplace=True)\n",
    "df1.fillna('',inplace=True)\n",
    "\n",
    "df2 = pd.read_csv('emergency_database.csv')\n",
    "df2.dropna(how=\"all\", inplace=True)\n",
    "df2.fillna('',inplace=True)\n",
    "\n",
    "df3 = pd.read_csv(\"countries.csv\", index_col = 'Country name')\n",
    "\n",
    "df4 = pd.read_csv('volunteer_database.csv')\n",
    "df4.dropna(how=\"all\", inplace=True)\n",
    "df4.fillna('',inplace=True)\n",
    "\n",
    "df5 = pd.read_csv('refugee_database.csv')\n",
    "df5.dropna(how=\"all\", inplace=True)\n",
    "df5.fillna('',inplace=True)\n",
    "\n",
    "df6 = pd.read_csv('user_database.csv')\n",
    "df6.dropna(how=\"all\", inplace=True)\n",
    "df6.fillna('',inplace=True)\n"
   ]
  },
  {
   "cell_type": "code",
   "execution_count": 140,
   "metadata": {
    "scrolled": true
   },
   "outputs": [
    {
     "name": "stdout",
     "output_type": "stream",
     "text": [
      "====================================================================================================\n",
      "Please select how would you like to create a new volunteer profile\n",
      "[1] - manual input\n",
      "[2] - automatic creation\n",
      "[B] to go back\n",
      "[Q] to quit\n",
      "Choose interaction: Q\n",
      "You input is not recognised\n",
      "Choose interaction: B\n",
      "You input is not recognised\n",
      "Choose interaction: 1\n",
      "\n",
      "Enter a new username: Vol\n",
      "\n",
      "Set a password: 111\n",
      "\n",
      "Set camp:\n",
      "[1] - View camp summary information\n",
      "[2] - Assign camp\n",
      "[B] to go back\n",
      "[Q] to quit\n",
      "\n",
      "Choose interaction: 2\n",
      "\n",
      "Enter camp ID: AU1-1\n",
      "   username password       role activated email\n",
      "44      Vol      111  volunteer      TRUE      \n",
      "\n",
      "Commit changes? [y]/[n] y\n",
      "\n",
      "Would you like to create another volunteer? [y]/[n] n\n",
      "====================================================================================================\n",
      "       Username First name Second name      Phone Camp ID Availability\n",
      "0    Volunteer1      Fedor       Green  441234567   AU1-1          15h\n",
      "1    Volunteer2       Jane      Smith   449876543   AU1-1          40h\n",
      "2    Volunteer3     Meghan      Brown   441312456   AU1-2          10h\n",
      "3    Volunteer4       Sam     Richards  446745891   AU1-1          30h\n",
      "4    Volunteer5      Amber   Robinson   448967124   AU1-2          17h\n",
      "5    Volunteer6       Alex        Gold  445689541   AU1-2           8h\n",
      "6    Volunteer7      Henry     Vincent  445897352   AU1-1          33h\n",
      "7    Volunteer8   Jessica      Vincent  442356789   AU1-1          18h\n",
      "8    Volunteer9    George    Thompson   445612345   AU1-1          10h\n",
      "9   Volunteer10      Emily       Jones  445612346   AU1-1          10h\n",
      "10  Volunteer11     Sophie      Taylor  445612347   AU1-1          10h\n",
      "11  Volunteer12    William        Owen  445612348   AU1-1          10h\n",
      "12  Volunteer13      Harry      Holmes  445612349   AU1-2          10h\n",
      "13  Volunteer14       Jane      Bishop  445612350   AU1-1          10h\n",
      "14  Volunteer15    Michael       Cooke  445612351   AU1-2          10h\n",
      "15  Volunteer16    William     Roberts  445612352   AU1-1          12h\n",
      "16  Volunteer17     Steven       White  445612353   AU1-1          12h\n",
      "17  Volunteer18  Catherine        Hall  445612354   AU1-2          12h\n",
      "18  Volunteer19  Charlotte       Dixon  445612355   AU1-2          12h\n",
      "19  Volunteer20       Mike      Wright  445612356   AU1-1          12h\n",
      "20  Volunteer21    Anthony       Cross  445612357   AU1-2          12h\n",
      "21  Volunteer22      Poppy        Ward  445612358   AU1-1          40h\n",
      "22  Volunteer23    Dominic       Clark  445612359   AU1-1          40h\n",
      "23  Volunteer24  Catherine      Harper  445612360   AU1-2          40h\n",
      "24  Volunteer25        Max         Day  445612361   AU1-2          40h\n",
      "25  Volunteer26      Emily      Brooks  445612362   AU1-2          40h\n",
      "26  Volunteer27      Susan      Turner  445612363   AU1-2          40h\n",
      "27  Volunteer28      Sarah      Martin  445612364   PK1-1          40h\n",
      "28  Volunteer29  Charlotte         Lee  445612365   AU1-1           5h\n",
      "29  Volunteer30        Tom    Phillips  445612366   AU1-1           3h\n",
      "30  Volunteer31      Harry        Ford  445612367   AU1-1          12h\n",
      "31  Volunteer32    Michael     Stewart  445612368   AU1-1          18h\n",
      "32  Volunteer33   Jessica        Sharp  445612369   AU1-1          18h\n",
      "33  Volunteer34     Violet     Osborne  445612370   AU1-1          18h\n",
      "34  Volunteer35      Amber       Moore  445612371   AU1-1          18h\n",
      "35  Volunteer36      Oscar     Bennett  445612372   AU1-1          18h\n",
      "36  Volunteer37   Scarlett       Price  445612373   AU1-1          18h\n",
      "37  Volunteer38     Hannah        Ross  445612374   AU1-1          18h\n",
      "38  Volunteer39       Alex       Green  445612375   AU1-1           7h\n",
      "39  Volunteer40       Greg      Barker  445612376   AU1-1           7h\n",
      "40  Volunteer41     Marcus      Walton  445612377   AU1-1           7h\n",
      "41  Volunteer42     Simone       Payne  445612378   AU1-1           7h\n",
      "42  Volunteer43     Sophie         Fox  445612379   AU1-2           7h\n",
      "43          Vol                                     AU1-1             \n",
      "  Camp ID   Location  Number of volunteers  Capacity Emergency ID  \\\n",
      "0   AU1-1  Australia                    30      1000          AU1   \n",
      "1   AU1-2  Australia                    13       250          AU1   \n",
      "2   PK1-1   Pakistan                     1       100          PK1   \n",
      "3   PK1-2   Pakistan                    50      1000          PK1   \n",
      "4   AU1-3  Australia                    10       500          AU1   \n",
      "\n",
      "  Number of refugees  \n",
      "0                  3  \n",
      "1                  3  \n",
      "2                     \n",
      "3                     \n",
      "4                     \n"
     ]
    }
   ],
   "source": [
    "class test():\n",
    "    \n",
    "    def __init__(self):\n",
    "        self.user_db = None\n",
    "        self.vol_db = None\n",
    "        self.refugee_db = None\n",
    "        self.camps_db = None\n",
    "        self.countries_db = None\n",
    "        self.emergencies_db = None \n",
    "\n",
    "        fileCheckError =  self.download_all_data()\n",
    "        \n",
    "        if fileCheckError:\n",
    "            exit()\n",
    "\n",
    "        self.current_user = 'Volunteer1'\n",
    "        self.camp_of_user = 'AU1'\n",
    "        self.functions = 10\n",
    "        pass\n",
    "    \n",
    "    def download_all_data(self):\n",
    "        \n",
    "        dataFailure = False\n",
    "\n",
    "        try: \n",
    "            df = pd.read_csv('user_database.csv')\n",
    "            df.dropna(how=\"all\", inplace=True)\n",
    "            df.fillna('',inplace=True)\n",
    "            df['password'] = df['password'].astype(str)\n",
    "            self.user_db = df\n",
    "        except FileNotFoundError:\n",
    "            user_db = {'username':['admin'],'password':['111'],'role':['admin'],'activated':['TRUE']}\n",
    "            df = pd.DataFrame(user_db)\n",
    "            df.set_index('username', inplace=True)\n",
    "            df['password'] = df['password'].astype(str)\n",
    "            df.to_csv('user_database.csv')\n",
    "            self.user_db = df\n",
    "        except:\n",
    "            print(\"System couldn't read your user database file.\")\n",
    "            dataFailure = True \n",
    "\n",
    "        try:\n",
    "            df = pd.read_csv('volunteer_database.csv')\n",
    "            df.dropna(how=\"all\", inplace=True)\n",
    "            df.fillna('',inplace=True)\n",
    "            self.vol_db = df\n",
    "        except FileNotFoundError:\n",
    "            vol_db = {'Username':[''],'First name':[''],'Second name':[''],'Camp ID':[''],'Avability':[''],'Status':['']}\n",
    "            df = pd.DataFrame(vol_db)\n",
    "            df.set_index('Username', inplace=True)\n",
    "            df.to_csv('volunteer_database.csv')\n",
    "            self.vol_db = df\n",
    "        except:\n",
    "            print(\"System couldn't read your volunteer database file.\")\n",
    "            dataFailure = True\n",
    "\n",
    "        try:\n",
    "            df = pd.read_csv('refugee_database.csv')\n",
    "            df.dropna(how=\"all\", inplace=True)\n",
    "            df.fillna('',inplace=True)\n",
    "            self.refugee_db = df\n",
    "        except FileNotFoundError:\n",
    "            refugee_db = {'Family ID':[''],'Lead Family Member Name':[''],'Lead Family Member Surname':[''],'Camp ID':[''],'Mental State':[''],'Physical State':[''],'No. Of Family Members':['']}\n",
    "            df = pd.DataFrame(refugee_db)\n",
    "            df.set_index('Family ID', inplace=True)\n",
    "            df.to_csv('refugee_database.csv')\n",
    "            self.refugee_db = df\n",
    "        except:\n",
    "            print(\"System couldn't read your refugees database file.\")\n",
    "            dataFailure = True\n",
    "\n",
    "        try:\n",
    "            df = pd.read_csv('camp_database.csv')\n",
    "            df.dropna(how=\"all\", inplace=True)\n",
    "            df.fillna('',inplace=True)\n",
    "            self.camps_db = df\n",
    "        except FileNotFoundError:\n",
    "            camps_db = {'Emergency ID':[''],'Type of emergency':[''],'Description':[''],'Location':[''],'Start date':[''],'Close date':[''],'Number of refugees':[''],'Camp ID':[''],'No Of Volounteers':[''],'Capacity':['']}\n",
    "            df = pd.DataFrame(camps_db)\n",
    "            df.set_index('Emergency ID', inplace=True)\n",
    "            df.to_csv('camp_database.csv')\n",
    "            self.camps_db = df\n",
    "        except:\n",
    "            print(\"System couldn't read your camplist database file.\")\n",
    "            dataFailure = True\n",
    "\n",
    "        try:\n",
    "            df = pd.read_csv('emergency_database.csv')\n",
    "            df.dropna(how=\"all\", inplace=True)\n",
    "            df.fillna('',inplace=True)\n",
    "            self.emergencies_db = df\n",
    "        except FileNotFoundError:\n",
    "            emergencies_db = {'Emergency ID':[''],'Location':[''],'Type':[''],'Description':[''],'Start date':[''],'Close date':['']}\n",
    "            df = pd.DataFrame(emergencies_db)\n",
    "            df.set_index('Emergency ID', inplace=True)\n",
    "            df.to_csv('emergency_database.csv')\n",
    "            self.emergencies_db = df\n",
    "        except:\n",
    "            print(\"System couldn't read your camplist database file.\")\n",
    "            dataFailure = True\n",
    "        \n",
    "        try:\n",
    "            df = pd.read_csv(\"countries.csv\", index_col = 'Country name')\n",
    "            self.countries_db = df\n",
    "        except:\n",
    "            print(\"System couldn't read the countries database file.\")\n",
    "            dataFailure = True\n",
    "        \n",
    "        return dataFailure\n",
    "    \n",
    "    def count_ref_vol(self):  # what is the purpose of this method?\n",
    "        '''\n",
    "        Counts the number of volunteers in each camp and the number of refugees in each camp, after which it updates the camp_database.csv with correct numbers.\n",
    "        '''\n",
    "        camp_df = self.camps_db.copy()\n",
    "        refugee_df = self.refugee_db.copy()\n",
    "        vol_df = self.vol_db.copy()\n",
    "\n",
    "        count_vol = vol_df['Camp ID'].value_counts()\n",
    "        count_ref = refugee_df['Camp ID'].value_counts()\n",
    "\n",
    "        for i in count_vol.index:\n",
    "            camp_df.loc[camp_df['Camp ID'] == i,\n",
    "                        'Number of volunteers'] = count_vol[i]\n",
    "        for i in count_ref.index:\n",
    "            camp_df.loc[camp_df['Camp ID'] == i,\n",
    "                        'Number of refugees'] = count_ref[i]\n",
    "\n",
    "        self.camps_db = camp_df.copy()\n",
    "        camp_df.to_csv('camp_database.csv', index=False)\n",
    "\n",
    "    def write_volunteer(self):\n",
    "        '''\n",
    "        Allows admin to create one or more empty volunteer accounts.\n",
    "\n",
    "        Either manual input can be selected. \n",
    "            INPUTS: username, password and camp of volunteer\n",
    "        Or automatic creation of multiple volunteer accounts from the same camp can be made which have automatically generated usernames in form \"Volunteer\"+index\n",
    "            INPUTS: number of volunteers desired, camp of volunteers\n",
    "        '''\n",
    "        vol_df = self.vol_db.copy()\n",
    "        users_df = self.user_db.copy()\n",
    "        camps_df = self.camps_db.copy()\n",
    "        users_exist = list(users_df['username'])\n",
    "        camps_exist = list(camps_df['Camp ID'])\n",
    "        self.quit = False\n",
    "        print(100*'=')\n",
    "        print('Please select how would you like to create a new volunteer profile')\n",
    "        print('[1] - manual input')\n",
    "        print('[2] - automatic creation')\n",
    "        print('[B] to go back')\n",
    "        print('[Q] to quit')\n",
    "\n",
    "        def manual():\n",
    "            counter = 0\n",
    "            while True:\n",
    "\n",
    "                def assign_username():\n",
    "                    global username\n",
    "                    while True:\n",
    "                        inpt = input('\\nEnter a new username: ')\n",
    "                        if inpt in users_exist:\n",
    "                            print('Username taken. Try another.')\n",
    "                            continue\n",
    "                        break\n",
    "                    username = inpt\n",
    "                    if inpt == 'Q' or inpt == 'B':\n",
    "                        print(100*'=')\n",
    "                        menu(self.functions)\n",
    "                        exit()\n",
    "                    return 1\n",
    "\n",
    "                def assign_password():\n",
    "                    global password\n",
    "                    inpt = input('\\nSet a password: ')\n",
    "                    password = inpt\n",
    "                    if inpt == 'B':\n",
    "                        return -1\n",
    "                    elif inpt == 'Q':\n",
    "                        print(100*'=')\n",
    "                        menu(self.functions)\n",
    "                        exit()\n",
    "                    else:\n",
    "                        return 1\n",
    "\n",
    "                def assign_camp():\n",
    "                    global camp\n",
    "                    while True:\n",
    "                        print('\\nSet camp:')\n",
    "                        print('[1] - View camp summary information')\n",
    "                        print('[2] - Assign camp')\n",
    "                        print('[B] to go back')\n",
    "                        print('[Q] to quit')\n",
    "                        user_input = input('\\nChoose interaction: ')\n",
    "                        if user_input == '1':\n",
    "                            print(camps_df)\n",
    "                        elif user_input == '2':\n",
    "                            pass\n",
    "                        elif user_input == 'B' or user_input == 'Q':\n",
    "                            break\n",
    "                        else:\n",
    "                            print('Invalid input.')\n",
    "                            continue\n",
    "                        user_input = input('\\nEnter camp ID: ')\n",
    "                        while user_input not in camps_exist:\n",
    "                            print('Invalid Camp ID.')\n",
    "                            user_input = input('\\nEnter camp ID: ')\n",
    "                        camp = user_input\n",
    "                        break\n",
    "\n",
    "                    if user_input == 'B':\n",
    "                        return -1\n",
    "                    elif user_input == 'Q':\n",
    "                        print(100*'=')\n",
    "                        menu(self.functions)\n",
    "                        exit()\n",
    "                    else:\n",
    "                        return 1\n",
    "\n",
    "                inputs = [assign_username, assign_password, assign_camp]\n",
    "\n",
    "                while counter < len(inputs):\n",
    "                    counter += inputs[counter]()\n",
    "\n",
    "                vol_df.loc[len(vol_df.index)] = [\n",
    "                    username, '', '', '', camp, '']\n",
    "                users_df.loc[len(users_df.index)] = [\n",
    "                    username, password, 'volunteer', 'TRUE', '']\n",
    "                print(users_df.tail(1))\n",
    "                while True:\n",
    "                    commit = input('\\nCommit changes? [y]/[n] ')\n",
    "                    if commit == 'y' or commit == 'n':\n",
    "                        break\n",
    "                    else:\n",
    "                        print('Your input is not recognised')\n",
    "                        continue\n",
    "\n",
    "                if commit == 'y':\n",
    "                    self.vol_db = vol_df.copy()\n",
    "                    self.user_db = users_df.copy()\n",
    "                    vol_df.to_csv('volunteer_database.csv', index=False)\n",
    "                    users_df.to_csv('user_database.csv', index=False)\n",
    "                else:\n",
    "                    counter = 0\n",
    "                    continue\n",
    "\n",
    "                while True:\n",
    "                    repeat = input(\n",
    "                        '\\nWould you like to create another volunteer? [y]/[n] ')\n",
    "                    if repeat == 'y' or repeat == 'n':\n",
    "                        break\n",
    "                    else:\n",
    "                        print('Your input is not recognised')\n",
    "                        continue\n",
    "                if repeat == 'n':\n",
    "                    break\n",
    "                else:\n",
    "                    counter = 0\n",
    "                    continue\n",
    "\n",
    "        def automatic():\n",
    "            while True:\n",
    "                while True:\n",
    "                    no_of_new_users = input(\n",
    "                        '\\nPlease select the number of new volunteers you wish to create: ')\n",
    "                    try:\n",
    "                        no_of_new_users = int(no_of_new_users)\n",
    "                        if no_of_new_users == 'Q':\n",
    "                            print(100*'=')\n",
    "                            menu(self.functions)\n",
    "                            exit()\n",
    "                    except ValueError:\n",
    "                        print('Your input needs to be an integer')\n",
    "                        continue\n",
    "                    while True:\n",
    "                        camp = input('\\nEnter camp ID: ')\n",
    "                        if camp not in camps_exist:\n",
    "                            print('Invalid Camp ID.')\n",
    "                            continue\n",
    "                        else:\n",
    "                            break\n",
    "                    if camp == 'B':\n",
    "                        continue\n",
    "                    elif no_of_new_users == 'Q':\n",
    "                        menu(self.functions)\n",
    "                        exit()\n",
    "                    else:\n",
    "                        break\n",
    "\n",
    "                new_usr_index = len(vol_df.index)+1\n",
    "                for i in range(no_of_new_users):\n",
    "                    vol_df.loc[len(vol_df.index)] = [\n",
    "                        'Volunteer'+str(new_usr_index+i), '', '', '', camp, '']\n",
    "                    users_df.loc[len(users_df.index)] = [\n",
    "                        'Volunteer'+str(new_usr_index+i), '111', 'volunteer', 'TRUE', '']\n",
    "\n",
    "                print(users_df.tail(no_of_new_users))\n",
    "                while True:\n",
    "                    commit = input('\\nCommit changes? [y]/[n] ')\n",
    "                    if commit == 'y' or commit == 'n':\n",
    "                        break\n",
    "                    else:\n",
    "                        print('Your input is not recognised')\n",
    "                        continue\n",
    "\n",
    "                if commit == 'y':\n",
    "                    self.vol_db = vol_df.copy()\n",
    "                    self.user_db = users_df.copy()\n",
    "                    vol_df.to_csv('volunteer_database.csv', index=False)\n",
    "                    users_df.to_csv('user_database.csv', index=False)\n",
    "                    break\n",
    "                else:\n",
    "                    continue\n",
    "\n",
    "        while True:\n",
    "            user_input = input('Choose interaction: ')\n",
    "            if user_input == '1' or user_input == '2':\n",
    "                break\n",
    "            else:\n",
    "                print('You input is not recognised')\n",
    "                continue\n",
    "\n",
    "        if user_input == '1':\n",
    "            manual()\n",
    "        else:\n",
    "            automatic()\n",
    "        print(100*'=')\n",
    "\n",
    "def menu(a):\n",
    "    print('You in menu')\n",
    "    \n",
    "tst = test()\n",
    "tst.write_volunteer()\n",
    "tst.count_ref_vol()\n",
    "print(tst.vol_db)\n",
    "print(tst.camps_db)"
   ]
  },
  {
   "cell_type": "code",
   "execution_count": 143,
   "metadata": {},
   "outputs": [
    {
     "data": {
      "text/plain": [
       "'4'"
      ]
     },
     "execution_count": 143,
     "metadata": {},
     "output_type": "execute_result"
    }
   ],
   "source": [
    "str(max([int(i[0]) for i in list(tst.refugee_db['Family ID']) if 'AU1-1' in i])+1)"
   ]
  },
  {
   "cell_type": "code",
   "execution_count": 152,
   "metadata": {},
   "outputs": [],
   "source": [
    "index = []\n",
    "for i in list(tst.refugee_db.loc[tst.refugee_db['Camp ID']=='AU1-1']['Family ID']):\n",
    "    for chr in i:\n",
    "        if chr.isalpha():\n",
    "            temp = i.index(chr)\n",
    "            index.append(i[:temp])\n",
    "            break"
   ]
  },
  {
   "cell_type": "code",
   "execution_count": 173,
   "metadata": {},
   "outputs": [
    {
     "data": {
      "text/html": [
       "<div>\n",
       "<style scoped>\n",
       "    .dataframe tbody tr th:only-of-type {\n",
       "        vertical-align: middle;\n",
       "    }\n",
       "\n",
       "    .dataframe tbody tr th {\n",
       "        vertical-align: top;\n",
       "    }\n",
       "\n",
       "    .dataframe thead th {\n",
       "        text-align: right;\n",
       "    }\n",
       "</style>\n",
       "<table border=\"1\" class=\"dataframe\">\n",
       "  <thead>\n",
       "    <tr style=\"text-align: right;\">\n",
       "      <th></th>\n",
       "      <th>Family ID</th>\n",
       "      <th>Lead Family Member Name</th>\n",
       "      <th>Lead Family Member Surname</th>\n",
       "      <th>Camp ID</th>\n",
       "      <th>Mental State</th>\n",
       "      <th>Physical State</th>\n",
       "      <th>No. Of Family Members</th>\n",
       "    </tr>\n",
       "  </thead>\n",
       "  <tbody>\n",
       "    <tr>\n",
       "      <th>0</th>\n",
       "      <td>duck</td>\n",
       "      <td>JOHN</td>\n",
       "      <td>Collins</td>\n",
       "      <td>AU1-1</td>\n",
       "      <td>good</td>\n",
       "      <td>bad</td>\n",
       "      <td>3</td>\n",
       "    </tr>\n",
       "    <tr>\n",
       "      <th>1</th>\n",
       "      <td>1AU1-2</td>\n",
       "      <td>Khan</td>\n",
       "      <td>Samuel</td>\n",
       "      <td>AU1-2</td>\n",
       "      <td>good</td>\n",
       "      <td>bad</td>\n",
       "      <td>4</td>\n",
       "    </tr>\n",
       "    <tr>\n",
       "      <th>2</th>\n",
       "      <td>2AU1-1</td>\n",
       "      <td>Mark</td>\n",
       "      <td>Brown</td>\n",
       "      <td>AU1-1</td>\n",
       "      <td>bad</td>\n",
       "      <td>bad</td>\n",
       "      <td>2</td>\n",
       "    </tr>\n",
       "    <tr>\n",
       "      <th>3</th>\n",
       "      <td>3AU1-1</td>\n",
       "      <td>Michael</td>\n",
       "      <td>Smith</td>\n",
       "      <td>AU1-1</td>\n",
       "      <td>good</td>\n",
       "      <td>good</td>\n",
       "      <td>3</td>\n",
       "    </tr>\n",
       "    <tr>\n",
       "      <th>4</th>\n",
       "      <td>2AU1-2</td>\n",
       "      <td>Sam</td>\n",
       "      <td>Roberts</td>\n",
       "      <td>AU1-2</td>\n",
       "      <td>bad</td>\n",
       "      <td>good</td>\n",
       "      <td>5</td>\n",
       "    </tr>\n",
       "    <tr>\n",
       "      <th>5</th>\n",
       "      <td>3AU1-2</td>\n",
       "      <td>Sophie</td>\n",
       "      <td>Jones</td>\n",
       "      <td>AU1-2</td>\n",
       "      <td>bad</td>\n",
       "      <td>bad</td>\n",
       "      <td>2</td>\n",
       "    </tr>\n",
       "  </tbody>\n",
       "</table>\n",
       "</div>"
      ],
      "text/plain": [
       "  Family ID Lead Family Member Name Lead Family Member Surname Camp ID  \\\n",
       "0      duck                    JOHN                    Collins   AU1-1   \n",
       "1    1AU1-2                    Khan                     Samuel   AU1-2   \n",
       "2    2AU1-1                    Mark                      Brown   AU1-1   \n",
       "3    3AU1-1                 Michael                      Smith   AU1-1   \n",
       "4    2AU1-2                     Sam                    Roberts   AU1-2   \n",
       "5    3AU1-2                  Sophie                      Jones   AU1-2   \n",
       "\n",
       "  Mental State Physical State  No. Of Family Members  \n",
       "0         good            bad                      3  \n",
       "1         good            bad                      4  \n",
       "2          bad            bad                      2  \n",
       "3         good           good                      3  \n",
       "4          bad           good                      5  \n",
       "5          bad            bad                      2  "
      ]
     },
     "execution_count": 173,
     "metadata": {},
     "output_type": "execute_result"
    }
   ],
   "source": [
    "tst.refugee_db"
   ]
  },
  {
   "cell_type": "code",
   "execution_count": 171,
   "metadata": {},
   "outputs": [
    {
     "data": {
      "text/html": [
       "<div>\n",
       "<style scoped>\n",
       "    .dataframe tbody tr th:only-of-type {\n",
       "        vertical-align: middle;\n",
       "    }\n",
       "\n",
       "    .dataframe tbody tr th {\n",
       "        vertical-align: top;\n",
       "    }\n",
       "\n",
       "    .dataframe thead th {\n",
       "        text-align: right;\n",
       "    }\n",
       "</style>\n",
       "<table border=\"1\" class=\"dataframe\">\n",
       "  <thead>\n",
       "    <tr style=\"text-align: right;\">\n",
       "      <th></th>\n",
       "      <th>Family ID</th>\n",
       "      <th>Lead Family Member Name</th>\n",
       "      <th>Lead Family Member Surname</th>\n",
       "      <th>Camp ID</th>\n",
       "      <th>Mental State</th>\n",
       "      <th>Physical State</th>\n",
       "      <th>No. Of Family Members</th>\n",
       "    </tr>\n",
       "  </thead>\n",
       "  <tbody>\n",
       "    <tr>\n",
       "      <th>0</th>\n",
       "      <td>duck</td>\n",
       "      <td>JOHN</td>\n",
       "      <td>Collins</td>\n",
       "      <td>AU1-1</td>\n",
       "      <td>good</td>\n",
       "      <td>bad</td>\n",
       "      <td>3</td>\n",
       "    </tr>\n",
       "    <tr>\n",
       "      <th>2</th>\n",
       "      <td>2AU1-1</td>\n",
       "      <td>Mark</td>\n",
       "      <td>Brown</td>\n",
       "      <td>AU1-1</td>\n",
       "      <td>bad</td>\n",
       "      <td>bad</td>\n",
       "      <td>2</td>\n",
       "    </tr>\n",
       "    <tr>\n",
       "      <th>3</th>\n",
       "      <td>3AU1-1</td>\n",
       "      <td>Michael</td>\n",
       "      <td>Smith</td>\n",
       "      <td>AU1-1</td>\n",
       "      <td>good</td>\n",
       "      <td>good</td>\n",
       "      <td>3</td>\n",
       "    </tr>\n",
       "  </tbody>\n",
       "</table>\n",
       "</div>"
      ],
      "text/plain": [
       "  Family ID Lead Family Member Name Lead Family Member Surname Camp ID  \\\n",
       "0      duck                    JOHN                    Collins   AU1-1   \n",
       "2    2AU1-1                    Mark                      Brown   AU1-1   \n",
       "3    3AU1-1                 Michael                      Smith   AU1-1   \n",
       "\n",
       "  Mental State Physical State  No. Of Family Members  \n",
       "0         good            bad                      3  \n",
       "2          bad            bad                      2  \n",
       "3         good           good                      3  "
      ]
     },
     "execution_count": 171,
     "metadata": {},
     "output_type": "execute_result"
    }
   ],
   "source": [
    "tst.refugee_db[tst.refugee_db[\"Camp ID\"] == 'AU1-1']"
   ]
  },
  {
   "cell_type": "code",
   "execution_count": 182,
   "metadata": {},
   "outputs": [
    {
     "data": {
      "text/plain": [
       "'AU1-1'"
      ]
     },
     "execution_count": 182,
     "metadata": {},
     "output_type": "execute_result"
    }
   ],
   "source": [
    "tst.camps_db[tst.camps_db[\"Emergency ID\"] == 'AU1']['Camp ID'].values[0]"
   ]
  },
  {
   "cell_type": "code",
   "execution_count": 183,
   "metadata": {},
   "outputs": [
    {
     "name": "stdout",
     "output_type": "stream",
     "text": [
      "\n",
      "Camp AU1-1 --> 3 family/families\n",
      "\n",
      "   Family ID Lead Family Member Name Lead Family Member Surname Camp ID  \\\n",
      "0      duck                    JOHN                    Collins   AU1-1   \n",
      "2    2AU1-1                    Mark                      Brown   AU1-1   \n",
      "3    3AU1-1                 Michael                      Smith   AU1-1   \n",
      "\n",
      "  Mental State Physical State  No. Of Family Members  \n",
      "0         good            bad                      3  \n",
      "2          bad            bad                      2  \n",
      "3         good           good                      3  \n"
     ]
    }
   ],
   "source": [
    "choose_emergency = 'AU1'\n",
    "camp_id = tst.camps_db[tst.camps_db[\"Emergency ID\"] == choose_emergency]['Camp ID'].values[0]\n",
    "group_camps = tst.refugee_db[tst.refugee_db[\"Camp ID\"] == camp_id].groupby(\"Camp ID\")\n",
    "for name, camp in group_camps:\n",
    "    print(\"\\nCamp \" + name + \" --> \" + str(len(camp)) + \" family/families\")\n",
    "    print('\\n',camp)"
   ]
  },
  {
   "cell_type": "code",
   "execution_count": 186,
   "metadata": {},
   "outputs": [
    {
     "data": {
      "text/plain": [
       "['AU1-1', 'AU1-2', 'PK1-1', 'PK1-2', 'AU1-3']"
      ]
     },
     "execution_count": 186,
     "metadata": {},
     "output_type": "execute_result"
    }
   ],
   "source": [
    "camps = list(tst.camps_db['Camp ID'])"
   ]
  },
  {
   "cell_type": "code",
   "execution_count": 190,
   "metadata": {},
   "outputs": [],
   "source": [
    "camps = list(tst.camps_db.loc[tst.camps_db['Number of refugees'] != '','Camp ID'])"
   ]
  },
  {
   "cell_type": "code",
   "execution_count": 194,
   "metadata": {},
   "outputs": [
    {
     "data": {
      "text/plain": [
       "3"
      ]
     },
     "execution_count": 194,
     "metadata": {},
     "output_type": "execute_result"
    }
   ],
   "source": [
    "tst.camps_db.loc[tst.camps_db['Camp ID'] != 'AU1-1','Number of refugees'].values[0]"
   ]
  },
  {
   "cell_type": "code",
   "execution_count": null,
   "metadata": {},
   "outputs": [],
   "source": [
    "print(tabulate(df, headers='keys', tablefmt='psql'))"
   ]
  },
  {
   "cell_type": "code",
   "execution_count": 209,
   "metadata": {},
   "outputs": [
    {
     "name": "stdout",
     "output_type": "stream",
     "text": [
      "\n",
      "\tCamp AU1-1 --> 3 family/families\n",
      "\n",
      " +-------------+---------------------------+------------------------------+-----------+----------------+------------------+-------------------------+\n",
      "| Family ID   | Lead Family Member Name   | Lead Family Member Surname   | Camp ID   | Mental State   | Physical State   |   No. Of Family Members |\n",
      "|-------------+---------------------------+------------------------------+-----------+----------------+------------------+-------------------------|\n",
      "| duck        | JOHN                      | Collins                      | AU1-1     | good           | bad              |                       3 |\n",
      "| 2AU1-1      | Mark                      | Brown                        | AU1-1     | bad            | bad              |                       2 |\n",
      "| 3AU1-1      | Michael                   | Smith                        | AU1-1     | good           | good             |                       3 |\n",
      "+-------------+---------------------------+------------------------------+-----------+----------------+------------------+-------------------------+\n",
      "----------------------------------------------------------------------------------------------------\n",
      "\n",
      "\tCamp AU1-2 --> 3 family/families\n",
      "\n",
      " +-------------+---------------------------+------------------------------+-----------+----------------+------------------+-------------------------+\n",
      "| Family ID   | Lead Family Member Name   | Lead Family Member Surname   | Camp ID   | Mental State   | Physical State   |   No. Of Family Members |\n",
      "|-------------+---------------------------+------------------------------+-----------+----------------+------------------+-------------------------|\n",
      "| 1AU1-2      | Khan                      | Samuel                       | AU1-2     | good           | bad              |                       4 |\n",
      "| 2AU1-2      | Sam                       | Roberts                      | AU1-2     | bad            | good             |                       5 |\n",
      "| 3AU1-2      | Sophie                    | Jones                        | AU1-2     | bad            | bad              |                       2 |\n",
      "+-------------+---------------------------+------------------------------+-----------+----------------+------------------+-------------------------+\n",
      "----------------------------------------------------------------------------------------------------\n"
     ]
    }
   ],
   "source": [
    "camps = list(tst.camps_db.loc[tst.camps_db['Number of refugees'] != '','Camp ID'])\n",
    "for i in camps:\n",
    "    no_of_families = str(tst.camps_db.loc[tst.camps_db['Camp ID'] != 'AU1-1','Number of refugees'].values[0])\n",
    "    refugees_in_camp = tst.refugee_db.loc[tst.refugee_db['Camp ID'] == i]\n",
    "    \n",
    "    print(\"\\n\\tCamp \" + i + \" --> \" + no_of_families + \" family/families\")\n",
    "    print('\\n',tabulate(refugees_in_camp, headers='keys', tablefmt='psql', showindex=False))\n",
    "    print(100*'-')"
   ]
  },
  {
   "cell_type": "code",
   "execution_count": 210,
   "metadata": {},
   "outputs": [
    {
     "name": "stdout",
     "output_type": "stream",
     "text": [
      "\n",
      " +-----+\n",
      "| 0   |\n",
      "|-----|\n",
      "| a   |\n",
      "| b   |\n",
      "| c   |\n",
      "+-----+\n"
     ]
    }
   ],
   "source": [
    "df = ['a','b','c']\n",
    "print('\\n',tabulate(df, headers='keys', tablefmt='psql', showindex=False))"
   ]
  },
  {
   "cell_type": "code",
   "execution_count": 223,
   "metadata": {
    "scrolled": false
   },
   "outputs": [
    {
     "name": "stdout",
     "output_type": "stream",
     "text": [
      "\n",
      " +-----------+------------------------+\n",
      "| Camp ID   |   Number of volunteers |\n",
      "|-----------+------------------------|\n",
      "| AU1-1     |                     30 |\n",
      "| AU1-2     |                     13 |\n",
      "| PK1-1     |                      1 |\n",
      "| PK1-2     |                     50 |\n",
      "| AU1-3     |                     10 |\n",
      "+-----------+------------------------+\n"
     ]
    }
   ],
   "source": [
    "df = tst.camps_db.loc[tst.camps_db['Number of volunteers'] != '', ['Camp ID','Number of volunteers']]\n",
    "print('\\n',tabulate(df, headers='keys', tablefmt='psql', showindex=False))"
   ]
  },
  {
   "cell_type": "code",
   "execution_count": 246,
   "metadata": {},
   "outputs": [
    {
     "name": "stdout",
     "output_type": "stream",
     "text": [
      "\n",
      "Camps in each area: \n",
      " +------------+---------------+\n",
      "| Location   |   No of camps |\n",
      "|------------+---------------|\n",
      "| Australia  |             3 |\n",
      "| Pakistan   |             2 |\n",
      "+------------+---------------+\n"
     ]
    }
   ],
   "source": [
    "df = tst.camps_db.Location.value_counts().reset_index()\n",
    "df.rename(columns = {'index':'Location', 'Location':'No of camps'}, inplace = True)\n",
    "print(\"\\nCamps in each area: \\n\",tabulate(df, headers='keys', tablefmt='psql', showindex=False))"
   ]
  },
  {
   "cell_type": "code",
   "execution_count": 245,
   "metadata": {},
   "outputs": [
    {
     "data": {
      "text/plain": [
       "Location\n",
       "Australia    3\n",
       "Pakistan     2\n",
       "dtype: int64"
      ]
     },
     "execution_count": 245,
     "metadata": {},
     "output_type": "execute_result"
    }
   ],
   "source": [
    "df = self.emergencies_db.groupby(by=self.emergencies_db['Type']).size()\n",
    "#print(tabulate(df, headers='keys', tablefmt='psql', showindex=False))"
   ]
  },
  {
   "cell_type": "code",
   "execution_count": 247,
   "metadata": {},
   "outputs": [
    {
     "data": {
      "text/plain": [
       "Type\n",
       "Bushfire    3\n",
       "Flooding    2\n",
       "dtype: int64"
      ]
     },
     "execution_count": 247,
     "metadata": {},
     "output_type": "execute_result"
    }
   ],
   "source": [
    "tst.emergencies_db.groupby(by=tst.emergencies_db['Type']).size()"
   ]
  },
  {
   "cell_type": "code",
   "execution_count": 251,
   "metadata": {},
   "outputs": [
    {
     "name": "stdout",
     "output_type": "stream",
     "text": [
      "\n",
      "Camps in each area: \n",
      " +----------+---------------+\n",
      "| Type     |   No of camps |\n",
      "|----------+---------------|\n",
      "| Bushfire |             3 |\n",
      "| Flooding |             2 |\n",
      "+----------+---------------+\n"
     ]
    }
   ],
   "source": [
    "df = tst.emergencies_db.Type.value_counts().reset_index()\n",
    "df.rename(columns = {'index':'Type', 'Type':'No of camps'}, inplace = True)\n",
    "print(\"\\nCamps in each area: \\n\",tabulate(df, headers='keys', tablefmt='psql', showindex=False))"
   ]
  },
  {
   "cell_type": "code",
   "execution_count": 255,
   "metadata": {},
   "outputs": [
    {
     "name": "stdout",
     "output_type": "stream",
     "text": [
      "\n",
      "\n",
      "AU1\n",
      "PK1\n",
      "LBN1\n",
      "PK2\n",
      "AU2\n"
     ]
    }
   ],
   "source": [
    "emergency_options = tst.emergencies_db[\"Emergency ID\"]\n",
    "print('\\n',*emergency_options, sep='\\n')\n",
    "emergency_list = tst.emergencies_db[\"Emergency ID\"].tolist()"
   ]
  },
  {
   "cell_type": "code",
   "execution_count": 256,
   "metadata": {},
   "outputs": [
    {
     "name": "stdout",
     "output_type": "stream",
     "text": [
      "0     AU1\n",
      "1     PK1\n",
      "2    LBN1\n",
      "3     PK2\n",
      "4     AU2\n",
      "Name: Emergency ID, dtype: object\n"
     ]
    }
   ],
   "source": [
    "print(emergency_options)"
   ]
  },
  {
   "cell_type": "code",
   "execution_count": 260,
   "metadata": {},
   "outputs": [
    {
     "name": "stdout",
     "output_type": "stream",
     "text": [
      "+----------------+\n",
      "| Emergency ID   |\n",
      "|----------------|\n",
      "| AU1            |\n",
      "| PK1            |\n",
      "| LBN1           |\n",
      "| PK2            |\n",
      "| AU2            |\n",
      "+----------------+\n"
     ]
    }
   ],
   "source": [
    "df = tst.emergencies_db[[\"Emergency ID\"]]\n",
    "print(tabulate(df, headers='keys', tablefmt='psql', showindex=False))"
   ]
  },
  {
   "cell_type": "code",
   "execution_count": 265,
   "metadata": {},
   "outputs": [
    {
     "name": "stdout",
     "output_type": "stream",
     "text": [
      "\n",
      "\n",
      "AU1-1\n",
      "AU1-2\n"
     ]
    }
   ],
   "source": [
    "camp_id = tst.refugee_db.loc[tst.refugee_db['Camp ID'].str.contains('AU1', case=False)]['Camp ID']\n",
    "camp_id_list = camp_id.tolist()\n",
    "print('\\n',*set(camp_id), sep='\\n')"
   ]
  },
  {
   "cell_type": "code",
   "execution_count": 269,
   "metadata": {},
   "outputs": [
    {
     "data": {
      "text/html": [
       "<div>\n",
       "<style scoped>\n",
       "    .dataframe tbody tr th:only-of-type {\n",
       "        vertical-align: middle;\n",
       "    }\n",
       "\n",
       "    .dataframe tbody tr th {\n",
       "        vertical-align: top;\n",
       "    }\n",
       "\n",
       "    .dataframe thead th {\n",
       "        text-align: right;\n",
       "    }\n",
       "</style>\n",
       "<table border=\"1\" class=\"dataframe\">\n",
       "  <thead>\n",
       "    <tr style=\"text-align: right;\">\n",
       "      <th></th>\n",
       "      <th>Camp ID</th>\n",
       "    </tr>\n",
       "  </thead>\n",
       "  <tbody>\n",
       "    <tr>\n",
       "      <th>0</th>\n",
       "      <td>AU1-1</td>\n",
       "    </tr>\n",
       "    <tr>\n",
       "      <th>1</th>\n",
       "      <td>AU1-2</td>\n",
       "    </tr>\n",
       "  </tbody>\n",
       "</table>\n",
       "</div>"
      ],
      "text/plain": [
       "  Camp ID\n",
       "0   AU1-1\n",
       "1   AU1-2"
      ]
     },
     "execution_count": 269,
     "metadata": {},
     "output_type": "execute_result"
    }
   ],
   "source": [
    "df = tst.refugee_db.loc[tst.refugee_db['Camp ID'].str.contains('AU1', case=False)][['Camp ID']]\n",
    "df.drop_duplicates(subset = 'Camp ID', inplace = True)\n",
    "df"
   ]
  },
  {
   "cell_type": "code",
   "execution_count": 277,
   "metadata": {},
   "outputs": [
    {
     "name": "stdout",
     "output_type": "stream",
     "text": [
      "+-------------+---------------------------+------------------------------+-----------+----------------+------------------+-------------------------+\n",
      "| Family ID   | Lead Family Member Name   | Lead Family Member Surname   | Camp ID   | Mental State   | Physical State   |   No. Of Family Members |\n",
      "|-------------+---------------------------+------------------------------+-----------+----------------+------------------+-------------------------|\n",
      "| 3AU1-2      | Sophie                    | Jones                        | AU1-2     | bad            | bad              |                       2 |\n",
      "+-------------+---------------------------+------------------------------+-----------+----------------+------------------+-------------------------+\n"
     ]
    }
   ],
   "source": [
    "print(tabulate(tst.refugee_db.tail(1), headers='keys', tablefmt='psql', showindex=False))"
   ]
  },
  {
   "cell_type": "code",
   "execution_count": 279,
   "metadata": {},
   "outputs": [
    {
     "name": "stdout",
     "output_type": "stream",
     "text": [
      "\n",
      "List of Camp IDs: \n",
      "AU1-1\n",
      "AU1-2\n",
      "PK1-1\n",
      "PK1-2\n",
      "AU1-3\n"
     ]
    }
   ],
   "source": [
    "print('\\nList of Camp IDs: ')\n",
    "print(tst.camps_db['Camp ID'].to_string(index=False))"
   ]
  },
  {
   "cell_type": "code",
   "execution_count": 282,
   "metadata": {},
   "outputs": [
    {
     "name": "stdout",
     "output_type": "stream",
     "text": [
      "\n",
      "List of Camp IDs: \n",
      "+-----------+\n",
      "| Camp ID   |\n",
      "|-----------|\n",
      "| AU1-1     |\n",
      "| AU1-2     |\n",
      "| PK1-1     |\n",
      "| PK1-2     |\n",
      "| AU1-3     |\n",
      "+-----------+\n"
     ]
    }
   ],
   "source": [
    "print('\\nList of Camp IDs: ')\n",
    "print(tabulate(tst.camps_db[['Camp ID']], headers='keys', tablefmt='psql', showindex=False))"
   ]
  },
  {
   "cell_type": "code",
   "execution_count": 293,
   "metadata": {},
   "outputs": [
    {
     "name": "stdout",
     "output_type": "stream",
     "text": [
      "+------------+--------------+---------------+---------+-----------+----------------+\n",
      "| Username   | First name   | Second name   | Phone   | Camp ID   | Availability   |\n",
      "|------------+--------------+---------------+---------+-----------+----------------|\n",
      "+------------+--------------+---------------+---------+-----------+----------------+\n"
     ]
    }
   ],
   "source": [
    "vol_data = tst.vol_db\n",
    "answers = ['Fedor','Sulitskiy']\n",
    "df = vol_data[(vol_data['First name'] == answers[0].title()) & (vol_data['Second name'] == answers[1].title())]\n",
    "print(tabulate(df, headers='keys', tablefmt='psql', showindex=False))"
   ]
  },
  {
   "cell_type": "code",
   "execution_count": 305,
   "metadata": {},
   "outputs": [
    {
     "data": {
      "text/html": [
       "<div>\n",
       "<style scoped>\n",
       "    .dataframe tbody tr th:only-of-type {\n",
       "        vertical-align: middle;\n",
       "    }\n",
       "\n",
       "    .dataframe tbody tr th {\n",
       "        vertical-align: top;\n",
       "    }\n",
       "\n",
       "    .dataframe thead th {\n",
       "        text-align: right;\n",
       "    }\n",
       "</style>\n",
       "<table border=\"1\" class=\"dataframe\">\n",
       "  <thead>\n",
       "    <tr style=\"text-align: right;\">\n",
       "      <th></th>\n",
       "      <th>Emergency ID</th>\n",
       "      <th>Location</th>\n",
       "      <th>Type</th>\n",
       "      <th>Description</th>\n",
       "      <th>Start date</th>\n",
       "      <th>Close date</th>\n",
       "    </tr>\n",
       "  </thead>\n",
       "  <tbody>\n",
       "    <tr>\n",
       "      <th>0</th>\n",
       "      <td>AU1</td>\n",
       "      <td>Australia</td>\n",
       "      <td>Bushfire</td>\n",
       "      <td>Description</td>\n",
       "      <td>01/09/2019</td>\n",
       "      <td>01/03/2020</td>\n",
       "    </tr>\n",
       "    <tr>\n",
       "      <th>4</th>\n",
       "      <td>AU2</td>\n",
       "      <td>Australia</td>\n",
       "      <td>Bushfire</td>\n",
       "      <td>Description</td>\n",
       "      <td>06/06/2022</td>\n",
       "      <td></td>\n",
       "    </tr>\n",
       "  </tbody>\n",
       "</table>\n",
       "</div>"
      ],
      "text/plain": [
       "  Emergency ID   Location      Type  Description  Start date  Close date\n",
       "0          AU1  Australia  Bushfire  Description  01/09/2019  01/03/2020\n",
       "4          AU2  Australia  Bushfire  Description  06/06/2022            "
      ]
     },
     "execution_count": 305,
     "metadata": {},
     "output_type": "execute_result"
    }
   ],
   "source": [
    "emergency_df = tst.emergencies_db\n",
    "emergency_df.loc[emergency_df['Emergency ID'].str.contains('AU', case=False)]"
   ]
  },
  {
   "cell_type": "code",
   "execution_count": 300,
   "metadata": {},
   "outputs": [
    {
     "data": {
      "text/plain": [
       "Emergency ID            AU2\n",
       "Location          Australia\n",
       "Type               Bushfire\n",
       "Description     Description\n",
       "Start date       06/06/2022\n",
       "Close date                 \n",
       "Name: 4, dtype: object"
      ]
     },
     "execution_count": 300,
     "metadata": {},
     "output_type": "execute_result"
    }
   ],
   "source": [
    "df = tst.emergencies_db.iloc[-1]\n",
    "df"
   ]
  },
  {
   "cell_type": "code",
   "execution_count": 302,
   "metadata": {},
   "outputs": [
    {
     "name": "stdout",
     "output_type": "stream",
     "text": [
      "+----------------+------------+----------+---------------+--------------+--------------+\n",
      "| Emergency ID   | Location   | Type     | Description   | Start date   | Close date   |\n",
      "|----------------+------------+----------+---------------+--------------+--------------|\n",
      "| AU2            | Australia  | Bushfire | Description   | 06/06/2022   |              |\n",
      "+----------------+------------+----------+---------------+--------------+--------------+\n"
     ]
    }
   ],
   "source": [
    "print(tabulate(tst.emergencies_db.tail(1), headers='keys', tablefmt='psql', showindex=False))"
   ]
  },
  {
   "cell_type": "code",
   "execution_count": null,
   "metadata": {},
   "outputs": [],
   "source": []
  }
 ],
 "metadata": {
  "kernelspec": {
   "display_name": "Python 3 (ipykernel)",
   "language": "python",
   "name": "python3"
  },
  "language_info": {
   "codemirror_mode": {
    "name": "ipython",
    "version": 3
   },
   "file_extension": ".py",
   "mimetype": "text/x-python",
   "name": "python",
   "nbconvert_exporter": "python",
   "pygments_lexer": "ipython3",
   "version": "3.9.12"
  },
  "vscode": {
   "interpreter": {
    "hash": "78f4d5eeabc4f1e607735e70d3a6d61402e9870b2eee08b6d7fa4247345d95ad"
   }
  }
 },
 "nbformat": 4,
 "nbformat_minor": 2
}
