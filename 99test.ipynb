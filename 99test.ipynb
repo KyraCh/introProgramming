{
 "cells": [
  {
   "cell_type": "code",
   "execution_count": 2,
   "metadata": {},
   "outputs": [],
   "source": [
    "import pandas as pd\n",
    "import datetime"
   ]
  },
  {
   "cell_type": "code",
   "execution_count": 2,
   "metadata": {},
   "outputs": [],
   "source": [
    "functions = {\"1\":{'method':1, 'message':'[1] - Amend your profile info',},\n",
    "            \"2\":{'method':2,  'message':'[2] - See camp info',},\n",
    "            \"3\":{'method':3,  'message':'[3] - Create refugee profile',},\n",
    "            \"4\":{'method':4,  'message':'[4] - Amend refugee profile',}}"
   ]
  },
  {
   "cell_type": "code",
   "execution_count": 8,
   "metadata": {},
   "outputs": [],
   "source": [
    "a = {0: {'username': 'admin', 'password': '111', 'role': 'admin', 'activated': True}, 1: {'username': 'Volunteer1', 'password': '111', 'role': 'volunteer', 'activated': True}, 2: {'username': 'Volunteer2', 'password': '111', 'role': 'volunteer', 'activated': True}, 3: {'username': 'Volunteer3', 'password': '111', 'role': 'volunteer', 'activated': True}, 4: {'username': 'Volunteer4', 'password': '111', 'role': 'volunteer', 'activated': True}, 5: {'username': 'Volunteer5', 'password': '111', 'role': 'volunteer', 'activated': True}, 6: {'username': 'Volunteer6', 'password': '111', 'role': 'volunteer', 'activated': True}, 7: {'username': 'Volunteer7', 'password': '111', 'role': 'volunteer', 'activated': True}, 8: {'username': 'Volunteer8', 'password': '111', 'role': 'volunteer', 'activated': True}, 9: {'username': 'Volunteer9', 'password': '111', 'role': 'volunteer', 'activated': True}, 10: {'username': 'Volunteer10', 'password': '111', 'role': 'volunteer', 'activated': True}, 11: {'username': 'Volunteer11', 'password': '111', 'role': 'volunteer', 'activated': True}, 12: {'username': 'Volunteer12', 'password': '111', 'role': 'volunteer', 'activated': True}, 13: {'username': 'Volunteer13', 'password': '111', 'role': 'volunteer', 'activated': True}, 14: {'username': 'Volunteer14', 'password': '111', 'role': 'volunteer', 'activated': True}, 15: {'username': 'Volunteer15', 'password': '111', 'role': 'volunteer', 'activated': True}, 16: {'username': 'Volunteer16', 'password': '111', 'role': 'volunteer', 'activated': True}, 17: {'username': 'Volunteer17', 'password': '111', 'role': 'volunteer', 'activated': True}, 18: {'username': 'Volunteer18', 'password': '111', 'role': 'volunteer', 'activated': True}, 19: {'username': 'Volunteer19', 'password': '111', 'role': 'volunteer', 'activated': True}, 20: {'username': 'Volunteer20', 'password': '111', 'role': 'volunteer', 'activated': True}, 21: {'username': 'Volunteer21', 'password': '111', 'role': 'volunteer', 'activated': True}, 22: {'username': 'Volunteer22', 'password': '111', 'role': 'volunteer', 'activated': True}, 23: {'username': 'Volunteer23', 'password': '111', 'role': 'volunteer', 'activated': True}, 24: {'username': 'Volunteer24', 'password': '111', 'role': 'volunteer', 'activated': True}, 25: {'username': 'Volunteer25', 'password': '111', 'role': 'volunteer', 'activated': True}, 26: {'username': 'Volunteer26', 'password': '111', 'role': 'volunteer', 'activated': True}, 27: {'username': 'Volunteer27', 'password': '111', 'role': 'volunteer', 'activated': True}, 28: {'username': 'Volunteer28', 'password': '111', 'role': 'volunteer', 'activated': True}, 29: {'username': 'Volunteer29', 'password': '111', 'role': 'volunteer', 'activated': True}, 30: {'username': 'Volunteer30', 'password': '111', 'role': 'volunteer', 'activated': True}, 31: {'username': 'Volunteer31', 'password': '111', 'role': 'volunteer', 'activated': True}, 32: {'username': 'Volunteer32', 'password': '111', 'role': 'volunteer', 'activated': True}, 33: {'username': 'Volunteer33', 'password': '111', 'role': 'volunteer', 'activated': True}, 34: {'username': 'Volunteer34', 'password': '111', 'role': 'volunteer', 'activated': True}, 35: {'username': 'Volunteer35', 'password': '111', 'role': 'volunteer', 'activated': True}, 36: {'username': 'Volunteer36', 'password': '111', 'role': 'volunteer', 'activated': True}, 37: \n",
    "{'username': 'Volunteer37', 'password': '111', 'role': 'volunteer', 'activated': True}, 38: {'username': 'Volunteer38', 'password': '111', 'role': 'volunteer', 'activated': True}, 39: {'username': 'Volunteer39', 'password': '111', 'role': 'volunteer', 'activated': True}, 40: {'username': 'Volunteer40', 'password': '111', 'role': 'volunteer', 'activated': True}, 41: {'username': 'Volunteer41', 'password': '111', 'role': 'volunteer', 'activated': True}, 42: {'username': 'Volunteer42', 'password': '111', 'role': 'volunteer', 'activated': True}, 43: {'username': 'Volunteer43', 'password': '111', 'role': 'volunteer', 'activated': True}}"
   ]
  },
  {
   "cell_type": "code",
   "execution_count": 13,
   "metadata": {},
   "outputs": [
    {
     "ename": "KeyError",
     "evalue": "'username'",
     "output_type": "error",
     "traceback": [
      "\u001b[1;31m---------------------------------------------------------------------------\u001b[0m",
      "\u001b[1;31mKeyError\u001b[0m                                  Traceback (most recent call last)",
      "\u001b[1;32m<ipython-input-13-e8066b04e5f6>\u001b[0m in \u001b[0;36m<module>\u001b[1;34m\u001b[0m\n\u001b[1;32m----> 1\u001b[1;33m \u001b[1;34m'Volunteer1'\u001b[0m \u001b[1;32min\u001b[0m \u001b[0ma\u001b[0m\u001b[1;33m[\u001b[0m\u001b[1;34m'username'\u001b[0m\u001b[1;33m]\u001b[0m\u001b[1;33m\u001b[0m\u001b[1;33m\u001b[0m\u001b[0m\n\u001b[0m",
      "\u001b[1;31mKeyError\u001b[0m: 'username'"
     ]
    }
   ],
   "source": [
    "'Volunteer1' in a['username']"
   ]
  },
  {
   "cell_type": "code",
   "execution_count": 3,
   "metadata": {},
   "outputs": [],
   "source": [
    "df1 = pd.read_csv('camp_database.csv')\n",
    "df1.dropna(how=\"all\", inplace=True)\n",
    "df1.fillna('',inplace=True)\n",
    "\n",
    "df2 = pd.read_csv('emergency_database.csv')\n",
    "df2.dropna(how=\"all\", inplace=True)\n",
    "df2.fillna('',inplace=True)\n",
    "\n",
    "df3 = pd.read_csv(\"countries.csv\", index_col = 'Country name')\n",
    "\n",
    "df4 = pd.read_csv('volunteer_database.csv')\n",
    "df4.dropna(how=\"all\", inplace=True)\n",
    "df4.fillna('',inplace=True)\n",
    "\n",
    "df5 = pd.read_csv('refugee_database.csv')\n",
    "df5.dropna(how=\"all\", inplace=True)\n",
    "df5.fillna('',inplace=True)\n"
   ]
  },
  {
   "cell_type": "code",
   "execution_count": 6,
   "metadata": {},
   "outputs": [
    {
     "data": {
      "text/plain": [
       "['Username', 'First name', 'Second name', 'Phone', 'Camp ID', 'Availability']"
      ]
     },
     "execution_count": 6,
     "metadata": {},
     "output_type": "execute_result"
    }
   ],
   "source": [
    "list(df4.loc[df4['Username']=='Volunteer1'])"
   ]
  },
  {
   "cell_type": "code",
   "execution_count": 38,
   "metadata": {},
   "outputs": [],
   "source": [
    "if None:\n",
    "    print('asdsa')"
   ]
  },
  {
   "cell_type": "code",
   "execution_count": 29,
   "metadata": {},
   "outputs": [
    {
     "data": {
      "text/plain": [
       "['Emergency ID', 'Location', 'Type', 'Description', 'Start date', 'Close date']"
      ]
     },
     "execution_count": 29,
     "metadata": {},
     "output_type": "execute_result"
    }
   ],
   "source": [
    "df2.loc[df2['Emergency ID'].str.contains('PK', case=False)]"
   ]
  },
  {
   "cell_type": "code",
   "execution_count": 17,
   "metadata": {},
   "outputs": [
    {
     "data": {
      "text/plain": [
       "29.0"
      ]
     },
     "execution_count": 17,
     "metadata": {},
     "output_type": "execute_result"
    }
   ],
   "source": [
    "df1.loc[df1['Camp ID']=='AU1-1','Number of volunteers'][0]"
   ]
  },
  {
   "cell_type": "code",
   "execution_count": 22,
   "metadata": {},
   "outputs": [
    {
     "data": {
      "text/plain": [
       "'mend your profile info'"
      ]
     },
     "execution_count": 22,
     "metadata": {},
     "output_type": "execute_result"
    }
   ],
   "source": [
    "a = '[1] - Amend your profile info'\n",
    "a[7:]"
   ]
  },
  {
   "cell_type": "code",
   "execution_count": 2,
   "metadata": {},
   "outputs": [],
   "source": [
    "def go_back(questionStack):\n",
    "    answerStack = []\n",
    "    i = 0\n",
    "    while i < len(questionStack):\n",
    "        answer = input(questionStack[i])\n",
    "\n",
    "        if answer == 'b':\n",
    "            if i == 0:\n",
    "                break\n",
    "            answerStack.pop()\n",
    "            i -= 1\n",
    "            continue\n",
    "        elif answer == 'q':\n",
    "            break\n",
    "\n",
    "        answerStack.append(answer)\n",
    "        i += 1\n",
    "\n",
    "    return (len(answerStack) == len(questionStack), answerStack)"
   ]
  },
  {
   "cell_type": "code",
   "execution_count": 5,
   "metadata": {},
   "outputs": [
    {
     "name": "stdout",
     "output_type": "stream",
     "text": [
      "['A1', 'Russia', 'Dewath', 'Im dying', 'now', 'later']\n"
     ]
    }
   ],
   "source": [
    "def create_user_profile():\n",
    "\n",
    "    questions = ['Emergency ID: ', 'Location: ', 'Type: ',\n",
    "                 'Description: ', 'Start date: ', 'Close date: ']\n",
    "    all_answered, answers = go_back(questions)\n",
    "\n",
    "    print(answers)\n",
    "\n",
    "create_user_profile()"
   ]
  },
  {
   "cell_type": "code",
   "execution_count": 1,
   "metadata": {},
   "outputs": [
    {
     "name": "stdout",
     "output_type": "stream",
     "text": [
      "bruh\n",
      "bruh\n",
      "bruh\n",
      "bruh\n",
      "bruh\n",
      "bruh\n",
      "bruh\n",
      "bruh\n",
      "bruh\n",
      "bruh\n",
      "bruh\n",
      "bruh\n",
      "bruh\n",
      "bruh\n"
     ]
    },
    {
     "ename": "KeyboardInterrupt",
     "evalue": "Interrupted by user",
     "output_type": "error",
     "traceback": [
      "\u001b[1;31m---------------------------------------------------------------------------\u001b[0m",
      "\u001b[1;31mKeyboardInterrupt\u001b[0m                         Traceback (most recent call last)",
      "\u001b[1;32mc:\\Users\\fsuli\\Programming\\introProgramming\\99test.ipynb Cell 13\u001b[0m in \u001b[0;36m<cell line: 1>\u001b[1;34m()\u001b[0m\n\u001b[0;32m      <a href='vscode-notebook-cell:/c%3A/Users/fsuli/Programming/introProgramming/99test.ipynb#X15sZmlsZQ%3D%3D?line=0'>1</a>\u001b[0m \u001b[39mwhile\u001b[39;00m \u001b[39mTrue\u001b[39;00m:\n\u001b[1;32m----> <a href='vscode-notebook-cell:/c%3A/Users/fsuli/Programming/introProgramming/99test.ipynb#X15sZmlsZQ%3D%3D?line=1'>2</a>\u001b[0m     a \u001b[39m=\u001b[39m \u001b[39minput\u001b[39;49m(\u001b[39m'\u001b[39;49m\u001b[39mgib number\u001b[39;49m\u001b[39m'\u001b[39;49m)\n\u001b[0;32m      <a href='vscode-notebook-cell:/c%3A/Users/fsuli/Programming/introProgramming/99test.ipynb#X15sZmlsZQ%3D%3D?line=2'>3</a>\u001b[0m     \u001b[39mif\u001b[39;00m \u001b[39mnot\u001b[39;00m a\u001b[39m.\u001b[39misnumeric():\n\u001b[0;32m      <a href='vscode-notebook-cell:/c%3A/Users/fsuli/Programming/introProgramming/99test.ipynb#X15sZmlsZQ%3D%3D?line=3'>4</a>\u001b[0m         \u001b[39mprint\u001b[39m(\u001b[39m'\u001b[39m\u001b[39mbruh\u001b[39m\u001b[39m'\u001b[39m)\n",
      "File \u001b[1;32mc:\\Users\\fsuli\\anaconda3\\envs\\internenv\\lib\\site-packages\\ipykernel\\kernelbase.py:1177\u001b[0m, in \u001b[0;36mKernel.raw_input\u001b[1;34m(self, prompt)\u001b[0m\n\u001b[0;32m   1173\u001b[0m \u001b[39mif\u001b[39;00m \u001b[39mnot\u001b[39;00m \u001b[39mself\u001b[39m\u001b[39m.\u001b[39m_allow_stdin:\n\u001b[0;32m   1174\u001b[0m     \u001b[39mraise\u001b[39;00m StdinNotImplementedError(\n\u001b[0;32m   1175\u001b[0m         \u001b[39m\"\u001b[39m\u001b[39mraw_input was called, but this frontend does not support input requests.\u001b[39m\u001b[39m\"\u001b[39m\n\u001b[0;32m   1176\u001b[0m     )\n\u001b[1;32m-> 1177\u001b[0m \u001b[39mreturn\u001b[39;00m \u001b[39mself\u001b[39;49m\u001b[39m.\u001b[39;49m_input_request(\n\u001b[0;32m   1178\u001b[0m     \u001b[39mstr\u001b[39;49m(prompt),\n\u001b[0;32m   1179\u001b[0m     \u001b[39mself\u001b[39;49m\u001b[39m.\u001b[39;49m_parent_ident[\u001b[39m\"\u001b[39;49m\u001b[39mshell\u001b[39;49m\u001b[39m\"\u001b[39;49m],\n\u001b[0;32m   1180\u001b[0m     \u001b[39mself\u001b[39;49m\u001b[39m.\u001b[39;49mget_parent(\u001b[39m\"\u001b[39;49m\u001b[39mshell\u001b[39;49m\u001b[39m\"\u001b[39;49m),\n\u001b[0;32m   1181\u001b[0m     password\u001b[39m=\u001b[39;49m\u001b[39mFalse\u001b[39;49;00m,\n\u001b[0;32m   1182\u001b[0m )\n",
      "File \u001b[1;32mc:\\Users\\fsuli\\anaconda3\\envs\\internenv\\lib\\site-packages\\ipykernel\\kernelbase.py:1219\u001b[0m, in \u001b[0;36mKernel._input_request\u001b[1;34m(self, prompt, ident, parent, password)\u001b[0m\n\u001b[0;32m   1216\u001b[0m             \u001b[39mbreak\u001b[39;00m\n\u001b[0;32m   1217\u001b[0m \u001b[39mexcept\u001b[39;00m \u001b[39mKeyboardInterrupt\u001b[39;00m:\n\u001b[0;32m   1218\u001b[0m     \u001b[39m# re-raise KeyboardInterrupt, to truncate traceback\u001b[39;00m\n\u001b[1;32m-> 1219\u001b[0m     \u001b[39mraise\u001b[39;00m \u001b[39mKeyboardInterrupt\u001b[39;00m(\u001b[39m\"\u001b[39m\u001b[39mInterrupted by user\u001b[39m\u001b[39m\"\u001b[39m) \u001b[39mfrom\u001b[39;00m \u001b[39mNone\u001b[39m\n\u001b[0;32m   1220\u001b[0m \u001b[39mexcept\u001b[39;00m \u001b[39mException\u001b[39;00m:\n\u001b[0;32m   1221\u001b[0m     \u001b[39mself\u001b[39m\u001b[39m.\u001b[39mlog\u001b[39m.\u001b[39mwarning(\u001b[39m\"\u001b[39m\u001b[39mInvalid Message:\u001b[39m\u001b[39m\"\u001b[39m, exc_info\u001b[39m=\u001b[39m\u001b[39mTrue\u001b[39;00m)\n",
      "\u001b[1;31mKeyboardInterrupt\u001b[0m: Interrupted by user"
     ]
    }
   ],
   "source": [
    "while True:\n",
    "    a = input('gib number')\n",
    "    if not a.isnumeric():\n",
    "        print('bruh')"
   ]
  }
 ],
 "metadata": {
  "kernelspec": {
   "display_name": "Python 3.10.5 ('internenv')",
   "language": "python",
   "name": "python3"
  },
  "language_info": {
   "codemirror_mode": {
    "name": "ipython",
    "version": 3
   },
   "file_extension": ".py",
   "mimetype": "text/x-python",
   "name": "python",
   "nbconvert_exporter": "python",
   "pygments_lexer": "ipython3",
   "version": "3.10.5"
  },
  "orig_nbformat": 4,
  "vscode": {
   "interpreter": {
    "hash": "78f4d5eeabc4f1e607735e70d3a6d61402e9870b2eee08b6d7fa4247345d95ad"
   }
  }
 },
 "nbformat": 4,
 "nbformat_minor": 2
}
